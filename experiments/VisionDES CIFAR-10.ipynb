{
 "cells": [
  {
   "cell_type": "code",
   "execution_count": 1,
   "id": "b77c0b9f-ff62-4b61-9dc3-c58ecd3a0ea6",
   "metadata": {},
   "outputs": [],
   "source": [
    "import os \n",
    "\n",
    "from PIL import Image\n",
    "import numpy as np\n",
    "import matplotlib.pyplot as plt"
   ]
  },
  {
   "cell_type": "code",
   "execution_count": 2,
   "id": "f2e7465b-e389-4a49-89c6-84283b088752",
   "metadata": {},
   "outputs": [],
   "source": [
    "import torch\n",
    "import torch.nn as nn\n",
    "import torch.nn.functional as F\n",
    "import torchvision.transforms as transforms"
   ]
  },
  {
   "cell_type": "code",
   "execution_count": 3,
   "id": "f76e10c2-69ac-4d2c-90c5-cdcc8e6aea5f",
   "metadata": {},
   "outputs": [
    {
     "data": {
      "text/plain": [
       "'2.6.0+cu118'"
      ]
     },
     "execution_count": 3,
     "metadata": {},
     "output_type": "execute_result"
    }
   ],
   "source": [
    "torch.__version__"
   ]
  },
  {
   "cell_type": "code",
   "execution_count": 4,
   "id": "81d510d1-f9ee-4d2d-a7e1-b989e90df349",
   "metadata": {},
   "outputs": [
    {
     "data": {
      "text/plain": [
       "True"
      ]
     },
     "execution_count": 4,
     "metadata": {},
     "output_type": "execute_result"
    }
   ],
   "source": [
    "torch.cuda.is_available() "
   ]
  },
  {
   "cell_type": "code",
   "execution_count": 5,
   "id": "56d3c936-5dde-4933-9f39-3bb33891aa24",
   "metadata": {},
   "outputs": [],
   "source": [
    "### import archetecture of models \n",
    "\n",
    "from trained_models_cifar10.models.vgg_models import * \n",
    "from trained_models_cifar10.models.resnet_models import * \n",
    "from trained_models_cifar10.models.densenet_models import * \n",
    "from trained_models_cifar10.models.mobilenetv2_cifar10 import * \n",
    "from trained_models_cifar10.models.googlenet_cifar10 import * "
   ]
  },
  {
   "cell_type": "code",
   "execution_count": 6,
   "id": "620e1737-08f7-47aa-9c79-473d578ac677",
   "metadata": {},
   "outputs": [],
   "source": [
    "## getting the archetecture of model from models.vgg_models \n",
    "vgg19_model = VGG('VGG19')\n",
    "resnet50_model = ResNet50() \n",
    "densenet169_model = DenseNet169() \n",
    "mobilenetV2_model = MobileNetV2() \n",
    "googlenet_model = GoogLeNet()  "
   ]
  },
  {
   "cell_type": "code",
   "execution_count": 7,
   "id": "f547276c-6ad7-4530-b3d9-1a8315e3ca14",
   "metadata": {},
   "outputs": [
    {
     "data": {
      "text/plain": [
       "<All keys matched successfully>"
      ]
     },
     "execution_count": 7,
     "metadata": {},
     "output_type": "execute_result"
    }
   ],
   "source": [
    "trained_models_directory = \"trained_models_cifar10/\" \n",
    "device_name = 'cuda:0' \n",
    "\n",
    "vgg_19_model_file_name = \"vgg19_cifar10_lr01.pth\" \n",
    "resnet50_model_file_name = \"resnet50_cifar10_lr01.pth\" \n",
    "densenet169_model_file_name = \"densenet169_cifar10_lr01.pth\" \n",
    "mobilenetV2_model_file_name = \"mobilenetv2_cifar10_lr01.pth\" \n",
    "googlenet_model_file_name = \"googlenet_cifar_lr01.pth\" \n",
    "\n",
    "vgg19_path = os.path.join(trained_models_directory, vgg_19_model_file_name) \n",
    "resnet50_path = os.path.join(trained_models_directory, resnet50_model_file_name) \n",
    "densenet169_path = os.path.join(trained_models_directory, densenet169_model_file_name) \n",
    "mobilenetV2_path = os.path.join(trained_models_directory, mobilenetV2_model_file_name) \n",
    "googlenet_path = os.path.join(trained_models_directory, googlenet_model_file_name) \n",
    "\n",
    "## load the model \n",
    "vgg19_model.load_state_dict(torch.load(vgg19_path, map_location=device_name)['net'])\n",
    "resnet50_model.load_state_dict(torch.load(resnet50_path, map_location=device_name)['net'])\n",
    "densenet169_model.load_state_dict(torch.load(densenet169_path, map_location=device_name)['net'])\n",
    "mobilenetV2_model.load_state_dict(torch.load(mobilenetV2_path, map_location=device_name)['net'])\n",
    "googlenet_model.load_state_dict(torch.load(googlenet_path, map_location=device_name)['net'])"
   ]
  },
  {
   "cell_type": "code",
   "execution_count": 8,
   "id": "dc0d0fe8-593e-4a3c-8160-a2739a37aa5e",
   "metadata": {},
   "outputs": [],
   "source": [
    "trained_pool = [vgg19_model.eval(), \n",
    "                resnet50_model.eval(), \n",
    "                densenet169_model.eval(), \n",
    "                mobilenetV2_model.eval(), \n",
    "                googlenet_model.eval()]\n",
    "\n",
    "\n",
    "model_names = [\n",
    "    \"VGG19\",\n",
    "    \"ResNet50\",\n",
    "    \"DenseNet169\",\n",
    "    \"MobileNetV2\",\n",
    "    \"GoogleNet\"\n",
    "]"
   ]
  },
  {
   "cell_type": "markdown",
   "id": "6595ff03-f984-4f18-96ef-450d573d0261",
   "metadata": {},
   "source": [
    "### Load Dataset "
   ]
  },
  {
   "cell_type": "code",
   "execution_count": 9,
   "id": "649e5edc-829e-4a00-8783-6a96e2be035d",
   "metadata": {},
   "outputs": [
    {
     "name": "stdout",
     "output_type": "stream",
     "text": [
      "Validation samples: 7000\n",
      "Test samples: 3000\n"
     ]
    }
   ],
   "source": [
    "import torch\n",
    "import torchvision\n",
    "import torchvision.transforms as transforms\n",
    "from torch.utils.data import random_split, DataLoader\n",
    "\n",
    "transform = transforms.Compose([\n",
    "    transforms.ToTensor(),\n",
    "    transforms.Normalize((0.4914, 0.4822, 0.4465), (0.2023, 0.1994, 0.2010)),\n",
    "])\n",
    "\n",
    "# Load the full CIFAR10 test set (10,000 samples)\n",
    "full_testset = torchvision.datasets.CIFAR10(\n",
    "    root='./data', train=False, download=True, transform=transform)\n",
    "\n",
    "# Calculate split sizes\n",
    "val_size = int(0.7 * len(full_testset))  # 7000\n",
    "test_size = len(full_testset) - val_size  # 3000\n",
    "\n",
    "# Randomly split into validation and test subsets\n",
    "val_set, test_set = random_split(\n",
    "    full_testset, [val_size, test_size],\n",
    "    generator=torch.Generator().manual_seed(42)\n",
    ")\n",
    "\n",
    "# Create DataLoaders\n",
    "valloader = DataLoader(val_set, batch_size=100, shuffle=False, num_workers=2)\n",
    "testloader = DataLoader(test_set, batch_size=100, shuffle=False, num_workers=2)\n",
    "\n",
    "print(f\"Validation samples: {len(val_set)}\")\n",
    "print(f\"Test samples: {len(test_set)}\")"
   ]
  },
  {
   "cell_type": "markdown",
   "id": "8adc9c5e-7582-4f5c-82e7-cba7c0db1085",
   "metadata": {},
   "source": [
    "### Evalaute base models "
   ]
  },
  {
   "cell_type": "code",
   "execution_count": 10,
   "id": "05d16c8d-e142-448c-ac48-e23615b8537c",
   "metadata": {},
   "outputs": [],
   "source": [
    "def evaluate_model(model, dataloader, device):\n",
    "    model.eval()\n",
    "    model.to(device)\n",
    "\n",
    "    correct = 0\n",
    "    total = 0\n",
    "    total_loss = 0.0\n",
    "\n",
    "    with torch.no_grad():\n",
    "        for images, labels in dataloader:\n",
    "            images, labels = images.to(device), labels.to(device)\n",
    "            outputs = model(images)\n",
    "            loss = F.cross_entropy(outputs, labels)\n",
    "            total_loss += loss.item() * images.size(0)\n",
    "\n",
    "            _, predicted = torch.max(outputs.data, 1)\n",
    "            total += labels.size(0)\n",
    "            correct += (predicted == labels).sum().item()\n",
    "\n",
    "    avg_loss = total_loss / total\n",
    "    accuracy = 100 * correct / total\n",
    "    return avg_loss, accuracy\n",
    "\n",
    "\n",
    "def evaluate_model_pool(model_pool, dataloader, device, model_names=None):\n",
    "    if model_names is None:\n",
    "        model_names = [f\"Model {i+1}\" for i in range(len(model_pool))]\n",
    "\n",
    "    for model, name in zip(model_pool, model_names):\n",
    "        loss, acc = evaluate_model(model, dataloader, device)\n",
    "        print(f\"{name:<15} → Accuracy: {acc:.2f}%, Loss: {loss:.4f}\")\n"
   ]
  },
  {
   "cell_type": "code",
   "execution_count": 11,
   "id": "cc8d71d0-c92f-4da2-9467-1b168c430f37",
   "metadata": {},
   "outputs": [
    {
     "name": "stdout",
     "output_type": "stream",
     "text": [
      "VGG19           → Accuracy: 93.17%, Loss: 0.3417\n",
      "ResNet50        → Accuracy: 95.23%, Loss: 0.2261\n",
      "DenseNet169     → Accuracy: 95.20%, Loss: 0.2451\n",
      "MobileNetV2     → Accuracy: 93.70%, Loss: 0.2756\n",
      "GoogleNet       → Accuracy: 95.03%, Loss: 0.1932\n"
     ]
    }
   ],
   "source": [
    "evaluate_model_pool(trained_pool, testloader, device_name, model_names)"
   ]
  },
  {
   "cell_type": "markdown",
   "id": "1398a0b8-19ac-41d4-a4c3-e0ec77209786",
   "metadata": {},
   "source": [
    "### VisionDES model "
   ]
  },
  {
   "cell_type": "code",
   "execution_count": null,
   "id": "2d835494-d67c-4d6e-a259-9b9010bb7ebb",
   "metadata": {},
   "outputs": [],
   "source": []
  },
  {
   "cell_type": "code",
   "execution_count": 51,
   "id": "e391172e-f474-4e35-a3de-6fa8caa8b5ac",
   "metadata": {},
   "outputs": [],
   "source": [
    "from torch.nn.functional import softmax, cosine_similarity\n",
    "from collections import Counter\n",
    "import matplotlib.pyplot as plt\n",
    "import torchvision.transforms.functional as TF\n",
    "import torch\n",
    "import torch.nn as nn\n",
    "import numpy as np\n",
    "import faiss\n",
    "from torch.utils.data import DataLoader\n",
    "from tqdm import tqdm\n",
    "\n",
    "device = torch.device(\"cuda\" if torch.cuda.is_available() else \"cpu\")\n",
    "\n",
    "\n",
    "import torch\n",
    "import torch.nn as nn\n",
    "\n",
    "def get_last_linear_layer(model):\n",
    "    \"\"\"\n",
    "    Try to find the last Linear layer in the model,\n",
    "    using common attribute names and fallback to scanning modules.\n",
    "    \"\"\"\n",
    "    name = model.__class__.__name__.lower()\n",
    "\n",
    "    # Common last layer attribute names to try (ViT, EfficientNet, etc)\n",
    "    candidate_attrs = ['head', 'heads', 'classifier', 'fc', 'mlp_head']\n",
    "\n",
    "    for attr in candidate_attrs:\n",
    "        if hasattr(model, attr):\n",
    "            layer = getattr(model, attr)\n",
    "            # If it's directly a Linear layer\n",
    "            if isinstance(layer, nn.Linear):\n",
    "                return layer\n",
    "            # If Sequential or Module, find last Linear inside it\n",
    "            if isinstance(layer, nn.Sequential) or isinstance(layer, nn.Module):\n",
    "                # Find last Linear inside this attribute recursively\n",
    "                last_linear = None\n",
    "                for child in reversed(list(layer.modules())):\n",
    "                    if isinstance(child, nn.Linear):\n",
    "                        last_linear = child\n",
    "                        break\n",
    "                if last_linear is not None:\n",
    "                    return last_linear\n",
    "\n",
    "    # Fallback: scan all modules and pick the last Linear\n",
    "    last_linear = None\n",
    "    for m in model.modules():\n",
    "        if isinstance(m, nn.Linear):\n",
    "            last_linear = m\n",
    "    if last_linear is not None:\n",
    "        return last_linear\n",
    "\n",
    "    raise RuntimeError(\"No Linear layer found in model\")\n",
    "\n",
    "\n",
    "def get_features_before_last_linear(model, x):\n",
    "    features = {}\n",
    "\n",
    "    def find_last_linear(module):\n",
    "        last_linear = None\n",
    "        for m in module.modules():\n",
    "            if isinstance(m, torch.nn.Linear):\n",
    "                last_linear = m\n",
    "        return last_linear\n",
    "\n",
    "    last_linear = find_last_linear(model)\n",
    "    if last_linear is None:\n",
    "        raise RuntimeError(\"No Linear layer found in model\")\n",
    "\n",
    "    def hook(module, input, output):\n",
    "        features['feat'] = input[0].detach()\n",
    "\n",
    "    handle = last_linear.register_forward_hook(hook)\n",
    "\n",
    "    model.eval()\n",
    "    with torch.no_grad():\n",
    "        _ = model(x)\n",
    "\n",
    "    handle.remove()\n",
    "\n",
    "    if 'feat' not in features:\n",
    "        raise RuntimeError(\"Failed to capture features from last linear layer\")\n",
    "\n",
    "    return features['feat']\n",
    "    \n",
    "\n",
    "class VisionDES:\n",
    "    def __init__(self, dsel_dataset, pool, resnet50_model):\n",
    "        self.dsel_dataset = dsel_dataset\n",
    "        self.dsel_loader = DataLoader(dsel_dataset, batch_size=32, shuffle=False)\n",
    "        self.pool = pool\n",
    "        self.suspected_model_votes = []\n",
    "\n",
    "        # Use your trained ResNet50 as embedding extractor\n",
    "        self.resnet50 = resnet50_model.to(device)\n",
    "        self.resnet50.eval()\n",
    "\n",
    "        # Remove classification head to get embeddings\n",
    "        self.embedding_extractor = nn.Sequential(*list(self.resnet50.children())[:-1]).to(device)\n",
    "        self.embedding_extractor.eval()\n",
    "\n",
    "    \n",
    "    def visualize_test_and_roc(self, test_img, roc_imgs, local_labels, class_names=None):\n",
    "        def denormalize(img_tensor, mean, std):\n",
    "            mean = torch.tensor(mean).view(-1, 1, 1).to(img_tensor.device)\n",
    "            std = torch.tensor(std).view(-1, 1, 1).to(img_tensor.device)\n",
    "            return img_tensor * std + mean\n",
    "        \"\"\"\n",
    "        Display test image and its Region of Competence (RoC) images with labels.\n",
    "        \n",
    "        Args:\n",
    "            test_img (torch.Tensor): Shape (C, H, W)\n",
    "            roc_imgs (torch.Tensor): Shape (k, C, H, W)\n",
    "            local_labels (np.ndarray): Shape (k,)\n",
    "            class_names (list): Optional list of class names\n",
    "        \"\"\"\n",
    "        mean = [0.485, 0.456, 0.406]\n",
    "        std  = [0.229, 0.224, 0.225] \n",
    "\n",
    "        k = roc_imgs.size(0)\n",
    "        ncols = min(k, 5)\n",
    "        nrows = 1 + (k + ncols - 1) // ncols  # one row for test image + RoC images\n",
    "    \n",
    "        plt.figure(figsize=(3 * ncols, 3 * nrows))\n",
    "    \n",
    "        # Plot test image\n",
    "        plt.subplot(nrows, ncols, 1)\n",
    "        denorm_img = denormalize(test_img, mean, std).clamp(0, 1)\n",
    "        img_np = TF.to_pil_image(denorm_img.cpu())\n",
    "        plt.imshow(img_np)\n",
    "        plt.title(\"Test Image\")\n",
    "        plt.axis(\"off\")\n",
    "    \n",
    "        # Plot RoC images\n",
    "        for i in range(k):\n",
    "            plt.subplot(nrows, ncols, i + 2)\n",
    "            denorm_img = denormalize(roc_imgs[i], mean, std).clamp(0, 1)\n",
    "            img_np = TF.to_pil_image(denorm_img.cpu())\n",
    "            label = local_labels[i]\n",
    "            if class_names:\n",
    "                label = class_names[label]\n",
    "            plt.imshow(img_np)\n",
    "            plt.title(f\"RoC #{i+1}\\nLabel: {label}\")\n",
    "            plt.axis(\"off\")\n",
    "    \n",
    "        plt.tight_layout()\n",
    "        plt.show()\n",
    "        \n",
    "\n",
    "    def resnet_embedder(self, images):\n",
    "        \"\"\"Extract embeddings from trained ResNet50.\"\"\"\n",
    "        with torch.no_grad():\n",
    "            feats = self.embedding_extractor(images)  # [B, C, 1, 1]\n",
    "            feats = feats.view(feats.size(0), -1)     # [B, C]\n",
    "        return feats\n",
    "\n",
    "    def fit(self):\n",
    "        dsel_embeddings = []\n",
    "        dsel_labels = []\n",
    "\n",
    "        with torch.no_grad():\n",
    "            for imgs, labels in tqdm(self.dsel_loader, desc=\"Extracting DSEL embeddings\"):\n",
    "                imgs = imgs.to(device)\n",
    "                embs = self.resnet_embedder(imgs).cpu()\n",
    "                dsel_embeddings.append(embs)\n",
    "                dsel_labels.append(labels)\n",
    "\n",
    "        dsel_embeddings_tensor = torch.cat(dsel_embeddings).detach().cpu()\n",
    "        cls_embeddings = np.ascontiguousarray(dsel_embeddings_tensor.numpy(), dtype='float32')\n",
    "        self.dsel_embeddings = cls_embeddings\n",
    "        self.dsel_labels = torch.cat(dsel_labels).numpy()\n",
    "\n",
    "        # Build FAISS index\n",
    "        embedding_dim = cls_embeddings.shape[1]\n",
    "        self.index = faiss.IndexFlatL2(embedding_dim)\n",
    "        self.index.add(cls_embeddings)\n",
    "\n",
    "    def get_output_size(self, model):\n",
    "        \"\"\"Get classifier output size.\"\"\"\n",
    "        if hasattr(model, 'fc'):\n",
    "            return model.fc.out_features\n",
    "        elif hasattr(model, 'classifier'):\n",
    "            if isinstance(model.classifier, nn.Sequential):\n",
    "                return model.classifier[-1].out_features\n",
    "            else:\n",
    "                return model.classifier.out_features\n",
    "        else:\n",
    "            raise AttributeError(\"Cannot determine output size of the model.\")\n",
    "\n",
    "    def predict_weighted_robust_feature_similarity(self, test_img, k=7, return_logits=False, explain=False):\n",
    "        # 1️⃣ ResNet50 embedding for test image\n",
    "        img_for_resnet = test_img.unsqueeze(0).to(device)\n",
    "        with torch.no_grad():\n",
    "            test_emb = self.resnet_embedder(img_for_resnet).cpu().numpy().astype('float32')\n",
    "\n",
    "        # 2️⃣ Find RoC from FAISS\n",
    "        _, neighbors = self.index.search(test_emb, k)\n",
    "        neighbor_idxs = neighbors[0]\n",
    "        local_labels = np.array(self.dsel_labels[neighbor_idxs]).flatten()\n",
    "\n",
    "        # 3️⃣ Get RoC images\n",
    "        with torch.no_grad():\n",
    "            roc_imgs = torch.stack([self.dsel_dataset[idx][0] for idx in neighbor_idxs]).to(device)\n",
    "\n",
    "        competences = []\n",
    "        soft_outputs = []\n",
    "        feature_similarities = []\n",
    "\n",
    "        # 4️⃣ Evaluate pool\n",
    "        for clf in self.pool:\n",
    "            clf.eval()\n",
    "            with torch.no_grad():\n",
    "                outputs = clf(roc_imgs)\n",
    "                preds = outputs.argmax(dim=1).cpu().numpy()\n",
    "                correct = (preds == local_labels).sum()\n",
    "                competence = correct / k\n",
    "                competences.append(competence)\n",
    "\n",
    "                logits = clf(test_img.unsqueeze(0).to(device)).squeeze(0)\n",
    "                probs = softmax(logits, dim=0)\n",
    "                soft_outputs.append(probs)\n",
    "\n",
    "                # Feature similarity using ResNet embeddings\n",
    "                test_feat = get_features_before_last_linear(clf, test_img.unsqueeze(0).to(device))\n",
    "                roc_feats = get_features_before_last_linear(clf, roc_imgs)\n",
    "                mean_feat = roc_feats.mean(dim=0, keepdim=True)\n",
    "\n",
    "                sim = cosine_similarity(test_feat / test_feat.norm(), mean_feat / mean_feat.norm(), dim=1)\n",
    "                feature_similarities.append(sim.item())\n",
    "\n",
    "        # 5️⃣ Combine scores\n",
    "        alpha = 1.0\n",
    "        combined_scores = [c * (s / alpha) for c, s in zip(competences, feature_similarities)]\n",
    "\n",
    "        total_score = sum(combined_scores)\n",
    "        if total_score == 0:\n",
    "            weights = [1.0 / len(self.pool)] * len(self.pool)\n",
    "        else:\n",
    "            weights = [s / total_score for s in combined_scores]\n",
    "\n",
    "        # 6️⃣ Weighted aggregation\n",
    "        num_classes = self.get_output_size(self.pool[0])\n",
    "        weighted_logits = torch.zeros(num_classes).to(device)\n",
    "        for prob, weight in zip(soft_outputs, weights):\n",
    "            weighted_logits += weight * prob\n",
    "\n",
    "        min_sim_idx = int(np.argmin(feature_similarities))\n",
    "        self.suspected_model_votes.append(min_sim_idx)\n",
    "\n",
    "        # Step 8: Optional explainability\n",
    "        if explain:\n",
    "            print(\"\\nExplainability Report:\")\n",
    "            for idx, (clf, comp, sim, weight, prob) in enumerate(zip(self.pool, competences, feature_similarities, weights, soft_outputs)):\n",
    "                pred_class = prob.argmax().item()\n",
    "                conf = prob[pred_class].item()\n",
    "                topk = torch.topk(prob, k=5)\n",
    "                print(f\"Model #{idx}: {clf.__class__.__name__}\")\n",
    "                print(f\"  - Competence: {comp:.4f}\")\n",
    "                print(f\"  - Feature similarity: {sim:.4f}\")\n",
    "                print(f\"  - Combined weight: {weight:.4f}\")\n",
    "                print(f\"  - Predicted class: {pred_class} with confidence {conf:.4f}\")\n",
    "                print(f\"  - Top-5: {topk.indices.tolist()} → {[round(p.item(), 3) for p in topk.values]}\")\n",
    "                print(\"-\" * 50)\n",
    "    \n",
    "            print(f\"\\n🧠 Final prediction: {weighted_logits.argmax().item()}\")\n",
    "            top5 = torch.topk(weighted_logits, k=5)\n",
    "            print(f\"🔝 Top-5 predictions:\")\n",
    "            for i in range(5):\n",
    "                print(f\"  - Class {top5.indices[i].item()}: {top5.values[i].item():.4f}\")\n",
    "    \n",
    "            print(\"\\nModel weight distribution:\")\n",
    "            for idx, w in enumerate(weights):\n",
    "                print(f\"  Model #{idx}: {w:.4f}\")\n",
    "            print(f\"Suspected attacked model: Model #{min_sim_idx} ({self.pool[min_sim_idx].__class__.__name__})\")\n",
    "    \n",
    "            print(\"\\nRoC visualization:\")\n",
    "            self.visualize_test_and_roc(test_img.squeeze(0), roc_imgs, local_labels)\n",
    "\n",
    "        if return_logits:\n",
    "            return weighted_logits\n",
    "        return weighted_logits.argmax().item()\n"
   ]
  },
  {
   "cell_type": "code",
   "execution_count": 52,
   "id": "dd1f8cf1-406d-42ae-940b-be2d8ee034a9",
   "metadata": {},
   "outputs": [],
   "source": [
    "des_model = VisionDES(val_set, trained_pool, resnet50_model.eval())"
   ]
  },
  {
   "cell_type": "code",
   "execution_count": 53,
   "id": "24cd993a-c658-44ca-926d-849728bfa1de",
   "metadata": {},
   "outputs": [
    {
     "name": "stderr",
     "output_type": "stream",
     "text": [
      "Extracting DSEL embeddings: 100%|███████████████████████████████████████████████████████████████████████████████████████████████████████████████████████████| 219/219 [00:08<00:00, 27.22it/s]\n"
     ]
    }
   ],
   "source": [
    "des_model.fit()"
   ]
  },
  {
   "cell_type": "code",
   "execution_count": 55,
   "id": "9c6376a0-bbb1-4316-8f46-9ed4efcf585c",
   "metadata": {},
   "outputs": [],
   "source": [
    "def evaluate_des(des_model, dataloader):\n",
    "    total = 0\n",
    "    correct = 0\n",
    "    \n",
    "    with torch.no_grad():\n",
    "        for imgs, labels in tqdm(dataloader, desc=\"Testing VisionDES\"):\n",
    "            imgs, labels = imgs.to(device), labels.to(device)\n",
    "            \n",
    "            # DES prediction (you can switch to robust or explainable prediction)\n",
    "            preds = []\n",
    "            for img in imgs:\n",
    "                pred = des_model.predict_weighted_robust_feature_similarity(\n",
    "                    img, k=7, return_logits=False, explain=False\n",
    "                )\n",
    "                preds.append(pred)\n",
    "            \n",
    "            preds = torch.tensor(preds).to(device)\n",
    "            correct += (preds == labels).sum().item()\n",
    "            total += labels.size(0)\n",
    "    \n",
    "    acc = correct / total\n",
    "    print(f\"✅ Test Accuracy: {acc:.4f}\")\n",
    "    return acc\n",
    "\n"
   ]
  },
  {
   "cell_type": "code",
   "execution_count": 61,
   "id": "6b949256-c57c-4352-9ac4-14272c31a536",
   "metadata": {},
   "outputs": [],
   "source": [
    "def evaluate_des_fails(des_model, data):\n",
    "    failed_indices = [] \n",
    "    \n",
    "    with torch.no_grad():\n",
    "        for i in tqdm(range(len(data))): \n",
    "            img, label = data[i][0].to(device), data[i][1]\n",
    "            pred = des_model.predict_weighted_robust_feature_similarity(\n",
    "                    img, k=7, return_logits=False, explain=False\n",
    "                ) \n",
    "\n",
    "            if pred != label: \n",
    "                failed_indices.append(i) \n",
    "    return failed_indices"
   ]
  },
  {
   "cell_type": "code",
   "execution_count": 56,
   "id": "e9bfb036-ba9b-41ed-9f00-db8412a4840b",
   "metadata": {},
   "outputs": [
    {
     "name": "stderr",
     "output_type": "stream",
     "text": [
      "Testing VisionDES: 100%|██████████████████████████████████████████████████████████████████████████████████████████████████████████████████████████████████████| 30/30 [10:50<00:00, 21.68s/it]"
     ]
    },
    {
     "name": "stdout",
     "output_type": "stream",
     "text": [
      "✅ Test Accuracy: 0.9570\n"
     ]
    },
    {
     "name": "stderr",
     "output_type": "stream",
     "text": [
      "\n"
     ]
    }
   ],
   "source": [
    "# =========================\n",
    "# Run Test\n",
    "# =========================\n",
    "# Assume `vision_des` is already created & trained\n",
    "test_acc = evaluate_des(des_model, testloader)"
   ]
  },
  {
   "cell_type": "code",
   "execution_count": 62,
   "id": "119281cd-4172-4ff0-bdca-df2974141e3a",
   "metadata": {},
   "outputs": [
    {
     "name": "stderr",
     "output_type": "stream",
     "text": [
      "100%|█████████████████████████████████████████████████████████████████████████████████████████████████████████████████████████████████████████████████████| 3000/3000 [11:46<00:00,  4.24it/s]\n"
     ]
    }
   ],
   "source": [
    "failed_samples = evaluate_des_fails(des_model, test_set)"
   ]
  },
  {
   "cell_type": "code",
   "execution_count": 64,
   "id": "c3a58d6c-4548-44e5-8107-e2e7985f24cd",
   "metadata": {},
   "outputs": [
    {
     "name": "stdout",
     "output_type": "stream",
     "text": [
      "[24, 81, 94, 129, 153, 183, 219, 221, 233, 243, 246, 260, 281, 289, 290, 304, 311, 324, 373, 380, 426, 453, 458, 469, 492, 523, 544, 554, 567, 568, 570, 590, 592, 707, 713, 714, 747, 751, 774, 786, 882, 885, 897, 929, 931, 966, 989, 1048, 1092, 1145, 1161, 1165, 1179, 1185, 1199, 1210, 1290, 1319, 1339, 1340, 1356, 1367, 1376, 1412, 1421, 1434, 1448, 1459, 1465, 1507, 1508, 1527, 1604, 1650, 1680, 1724, 1747, 1763, 1824, 1834, 1881, 1897, 1899, 1915, 2000, 2004, 2016, 2034, 2056, 2077, 2078, 2096, 2097, 2102, 2131, 2133, 2151, 2167, 2200, 2257, 2299, 2302, 2304, 2310, 2337, 2372, 2418, 2419, 2420, 2532, 2611, 2617, 2632, 2641, 2649, 2663, 2667, 2671, 2688, 2698, 2705, 2713, 2734, 2754, 2755, 2819, 2844, 2926, 2964]\n"
     ]
    }
   ],
   "source": [
    "print(failed_samples) "
   ]
  },
  {
   "cell_type": "code",
   "execution_count": 66,
   "id": "dbae4894-f5e3-4e2e-8030-6bf3d77d9073",
   "metadata": {},
   "outputs": [
    {
     "data": {
      "text/plain": [
       "129"
      ]
     },
     "execution_count": 66,
     "metadata": {},
     "output_type": "execute_result"
    }
   ],
   "source": [
    "len(failed_samples)"
   ]
  },
  {
   "cell_type": "code",
   "execution_count": 67,
   "id": "73719622-51a4-4f11-8f32-3f8645250d5a",
   "metadata": {},
   "outputs": [
    {
     "data": {
      "text/plain": [
       "0.043"
      ]
     },
     "execution_count": 67,
     "metadata": {},
     "output_type": "execute_result"
    }
   ],
   "source": [
    "129/3000"
   ]
  },
  {
   "cell_type": "code",
   "execution_count": 70,
   "id": "e2d095c0-0d43-451c-9f3e-4c0d1bee87a5",
   "metadata": {},
   "outputs": [
    {
     "name": "stdout",
     "output_type": "stream",
     "text": [
      "True class: 3\n",
      "\n",
      "Explainability Report:\n",
      "Model #0: VGG\n",
      "  - Competence: 1.0000\n",
      "  - Feature similarity: 0.9974\n",
      "  - Combined weight: 0.2123\n",
      "  - Predicted class: 5 with confidence 0.9991\n",
      "  - Top-5: [5, 7, 3, 4, 2] → [0.999, 0.0, 0.0, 0.0, 0.0]\n",
      "--------------------------------------------------\n",
      "Model #1: ResNet\n",
      "  - Competence: 1.0000\n",
      "  - Feature similarity: 0.9675\n",
      "  - Combined weight: 0.2060\n",
      "  - Predicted class: 5 with confidence 0.9999\n",
      "  - Top-5: [5, 7, 3, 1, 2] → [1.0, 0.0, 0.0, 0.0, 0.0]\n",
      "--------------------------------------------------\n",
      "Model #2: DenseNet\n",
      "  - Competence: 1.0000\n",
      "  - Feature similarity: 0.8422\n",
      "  - Combined weight: 0.1793\n",
      "  - Predicted class: 5 with confidence 0.9952\n",
      "  - Top-5: [5, 3, 2, 7, 1] → [0.995, 0.003, 0.001, 0.001, 0.0]\n",
      "--------------------------------------------------\n",
      "Model #3: MobileNetV2\n",
      "  - Competence: 1.0000\n",
      "  - Feature similarity: 0.9388\n",
      "  - Combined weight: 0.1998\n",
      "  - Predicted class: 5 with confidence 0.9951\n",
      "  - Top-5: [5, 3, 2, 7, 4] → [0.995, 0.003, 0.001, 0.001, 0.0]\n",
      "--------------------------------------------------\n",
      "Model #4: GoogLeNet\n",
      "  - Competence: 1.0000\n",
      "  - Feature similarity: 0.9517\n",
      "  - Combined weight: 0.2026\n",
      "  - Predicted class: 5 with confidence 0.9958\n",
      "  - Top-5: [5, 7, 2, 3, 1] → [0.996, 0.002, 0.001, 0.001, 0.0]\n",
      "--------------------------------------------------\n",
      "\n",
      "🧠 Final prediction: 5\n",
      "🔝 Top-5 predictions:\n",
      "  - Class 5: 0.9971\n",
      "  - Class 3: 0.0012\n",
      "  - Class 7: 0.0007\n",
      "  - Class 2: 0.0005\n",
      "  - Class 4: 0.0001\n",
      "\n",
      "Model weight distribution:\n",
      "  Model #0: 0.2123\n",
      "  Model #1: 0.2060\n",
      "  Model #2: 0.1793\n",
      "  Model #3: 0.1998\n",
      "  Model #4: 0.2026\n",
      "Suspected attacked model: Model #2 (DenseNet)\n",
      "\n",
      "RoC visualization:\n"
     ]
    },
    {
     "data": {
      "image/png": "[encoded data removed]",
      "text/plain": [
       "<Figure size 1500x900 with 8 Axes>"
      ]
     },
     "metadata": {},
     "output_type": "display_data"
    },
    {
     "data": {
      "text/plain": [
       "5"
      ]
     },
     "execution_count": 70,
     "metadata": {},
     "output_type": "execute_result"
    }
   ],
   "source": [
    "index = 153\n",
    "\n",
    "print(f\"True class: {test_set[index][1]}\")\n",
    "\n",
    "des_model.predict_weighted_robust_feature_similarity(test_set[index][0], explain=True) "
   ]
  },
  {
   "cell_type": "markdown",
   "id": "a5afb395-8c33-460b-844d-bdb1a7ccb3df",
   "metadata": {},
   "source": [
    "### Soft Voting "
   ]
  },
  {
   "cell_type": "code",
   "execution_count": 45,
   "id": "00d266c7-37fe-4fea-a13d-0afc1c2588fc",
   "metadata": {},
   "outputs": [],
   "source": [
    "def evaluate_soft(des_model, dataloader):\n",
    "    total = 0\n",
    "    correct = 0\n",
    "    \n",
    "    with torch.no_grad():\n",
    "        for imgs, labels in tqdm(dataloader, desc=\"Testing SoftVoting\"):\n",
    "            imgs, labels = imgs.to(device), labels.to(device)\n",
    "            \n",
    "            # DES prediction (you can switch to robust or explainable prediction)\n",
    "            preds = []\n",
    "            for img in imgs:\n",
    "                _, pred = des_model.predict_single_with_probs(\n",
    "                    img\n",
    "                )\n",
    "                preds.append(pred)\n",
    "            \n",
    "            preds = torch.tensor(preds).to(device)\n",
    "            correct += (preds == labels).sum().item()\n",
    "            total += labels.size(0)\n",
    "    \n",
    "    acc = correct / total\n",
    "    print(f\"✅ Test Accuracy: {acc:.4f}\")\n",
    "    return acc"
   ]
  },
  {
   "cell_type": "code",
   "execution_count": 46,
   "id": "877967a1-0fb8-4a66-8983-d5ef4ef2bf59",
   "metadata": {},
   "outputs": [],
   "source": [
    "class SoftVotingEnsemble:\n",
    "    def __init__(self, models, device='cpu'):\n",
    "        self.models = models\n",
    "        self.device = device\n",
    "        for model in self.models:\n",
    "            model.eval().to(device)\n",
    "\n",
    "    def predict(self, images, return_probs=False):\n",
    "        probs = []\n",
    "        with torch.no_grad():\n",
    "            for model in self.models:\n",
    "                outputs = model(images.to(self.device))\n",
    "                softmaxed = torch.softmax(outputs, dim=1)\n",
    "                probs.append(softmaxed.cpu().numpy())\n",
    "        mean_probs = np.mean(np.stack(probs), axis=0)\n",
    "        if return_probs:\n",
    "            return mean_probs\n",
    "        return np.argmax(mean_probs, axis=1)\n",
    "\n",
    "    def predict_single_with_probs(self, image):\n",
    "        image = image.unsqueeze(0)  # Shape [1, C, H, W]\n",
    "        with torch.no_grad():\n",
    "            model_probs = []\n",
    "            for model in self.models:\n",
    "                logits = model(image.to(self.device))\n",
    "                softmaxed = torch.softmax(logits, dim=1)\n",
    "                model_probs.append(softmaxed.cpu().numpy())\n",
    "            mean_probs = np.mean(np.stack(model_probs), axis=0)\n",
    "            probs = mean_probs[0]\n",
    "            pred = np.argmax(probs)\n",
    "            return probs, pred"
   ]
  },
  {
   "cell_type": "code",
   "execution_count": 47,
   "id": "77487453-1c82-4293-a19e-234dd8e70b4b",
   "metadata": {},
   "outputs": [],
   "source": [
    "soft_model = SoftVotingEnsemble(trained_pool, device)"
   ]
  },
  {
   "cell_type": "code",
   "execution_count": 48,
   "id": "655f2c6c-6e3d-4f96-8415-c9d89a8ba398",
   "metadata": {},
   "outputs": [
    {
     "data": {
      "text/plain": [
       "(array([9.9639308e-01, 9.4798699e-05, 2.9314775e-03, 8.6780834e-05,\n",
       "        8.1010679e-05, 8.7768400e-05, 7.5646298e-05, 9.0376838e-05,\n",
       "        9.8153389e-05, 6.0870989e-05], dtype=float32),\n",
       " 0)"
      ]
     },
     "execution_count": 48,
     "metadata": {},
     "output_type": "execute_result"
    }
   ],
   "source": [
    "soft_model.predict_single_with_probs(test_set[0][0])"
   ]
  },
  {
   "cell_type": "code",
   "execution_count": 49,
   "id": "7bd531a9-c8f8-4861-bfb4-89d9a0e2e512",
   "metadata": {},
   "outputs": [
    {
     "name": "stderr",
     "output_type": "stream",
     "text": [
      "Testing SoftVoting: 100%|█████████████████████████████████████████████████████████████████████████████████████████████████████████████████████████████████████| 30/30 [01:42<00:00,  3.42s/it]"
     ]
    },
    {
     "name": "stdout",
     "output_type": "stream",
     "text": [
      "✅ Test Accuracy: 0.9597\n"
     ]
    },
    {
     "name": "stderr",
     "output_type": "stream",
     "text": [
      "\n"
     ]
    }
   ],
   "source": [
    "# =========================\n",
    "# Run Test\n",
    "# =========================\n",
    "test_acc = evaluate_soft(soft_model, testloader)"
   ]
  },
  {
   "cell_type": "markdown",
   "id": "f92d96ee-56a6-402b-9ab2-30fe42c65661",
   "metadata": {},
   "source": [
    "### Attack "
   ]
  },
  {
   "cell_type": "code",
   "execution_count": 72,
   "id": "902414c7-8e37-438e-837e-9c4cd626c5be",
   "metadata": {},
   "outputs": [],
   "source": [
    "from torch.utils.data import TensorDataset, DataLoader\n",
    "from art.attacks.evasion import ProjectedGradientDescent\n",
    "from art.estimators.classification import PyTorchClassifier\n",
    "from sklearn.metrics import f1_score, roc_auc_score, accuracy_score\n",
    "from collections import defaultdict"
   ]
  },
  {
   "cell_type": "code",
   "execution_count": 76,
   "id": "e68572af-6c6e-4b06-a79b-1a631ffdd97a",
   "metadata": {},
   "outputs": [
    {
     "name": "stdout",
     "output_type": "stream",
     "text": [
      "Attacked\n"
     ]
    },
    {
     "data": {
      "application/vnd.jupyter.widget-view+json": {
       "model_id": "72ccefb1377b4b1187d4916fda2634f7",
       "version_major": 2,
       "version_minor": 0
      },
      "text/plain": [
       "PGD - Batches:   0%|          | 0/94 [00:00<?, ?it/s]"
      ]
     },
     "metadata": {},
     "output_type": "display_data"
    }
   ],
   "source": [
    "print(\"Attacked\")\n",
    "TARGET_MODEL_INDEX = 2 \n",
    "EPSILON = 0.05\n",
    "\n",
    "target_model = trained_pool[TARGET_MODEL_INDEX]  \n",
    "target_model = target_model.to(device).eval() \n",
    "\n",
    "dummy_optimizer = torch.optim.Adam(target_model.parameters())\n",
    "loss_fn = nn.CrossEntropyLoss() \n",
    "\n",
    "# Wrap it for ART\n",
    "art_classifier = PyTorchClassifier(\n",
    "    model=target_model,\n",
    "    loss=loss_fn,\n",
    "    optimizer=dummy_optimizer,\n",
    "    input_shape=(1, 32, 32),  \n",
    "    nb_classes=10,\n",
    "    clip_values=(0.0, 1.0),\n",
    ")\n",
    "\n",
    "x_test = []\n",
    "y_test = []\n",
    "    \n",
    "for img, label in test_set: \n",
    "    x_test.append(img.numpy())\n",
    "    y_test.append(label)\n",
    "    \n",
    "x_test = np.array(x_test)\n",
    "y_test = np.array(y_test)\n",
    "\n",
    "pgd_attack = ProjectedGradientDescent(estimator=art_classifier, eps=EPSILON, eps_step=0.01, max_iter=100)\n",
    "x_test_adv = pgd_attack.generate(x=x_test) "
   ]
  },
  {
   "cell_type": "code",
   "execution_count": 77,
   "id": "fcfe6d79-bea4-4c94-ae62-604b805e31ec",
   "metadata": {},
   "outputs": [],
   "source": [
    "adv_tensor = torch.tensor(x_test_adv).float()\n",
    "labels_tensor = torch.tensor(y_test).long()\n",
    "adv_dataset = TensorDataset(adv_tensor, labels_tensor)\n",
    "\n",
    "adv_test_loader = DataLoader(adv_dataset, batch_size=1, shuffle=False)"
   ]
  },
  {
   "cell_type": "markdown",
   "id": "e9d36e14-2d3c-4ed8-ad99-004ea5f18252",
   "metadata": {},
   "source": [
    "#### Double Attack "
   ]
  },
  {
   "cell_type": "code",
   "execution_count": 82,
   "id": "e21542c5-429d-41e4-a4ff-cb11b6f467d0",
   "metadata": {},
   "outputs": [
    {
     "name": "stdout",
     "output_type": "stream",
     "text": [
      "Attacked\n"
     ]
    },
    {
     "data": {
      "application/vnd.jupyter.widget-view+json": {
       "model_id": "9f868618aa0642a4978b4eec5a8dd0fd",
       "version_major": 2,
       "version_minor": 0
      },
      "text/plain": [
       "PGD - Batches:   0%|          | 0/94 [00:00<?, ?it/s]"
      ]
     },
     "metadata": {},
     "output_type": "display_data"
    }
   ],
   "source": [
    "print(\"Attacked\")\n",
    "TARGET_MODEL_INDEX = 4 \n",
    "EPSILON = 0.05\n",
    "\n",
    "target_model = trained_pool[TARGET_MODEL_INDEX]  \n",
    "target_model = target_model.to(device).eval() \n",
    "\n",
    "dummy_optimizer = torch.optim.Adam(target_model.parameters())\n",
    "loss_fn = nn.CrossEntropyLoss() \n",
    "\n",
    "# Wrap it for ART\n",
    "art_classifier = PyTorchClassifier(\n",
    "    model=target_model,\n",
    "    loss=loss_fn,\n",
    "    optimizer=dummy_optimizer,\n",
    "    input_shape=(1, 32, 32),  \n",
    "    nb_classes=10,\n",
    "    clip_values=(0.0, 1.0),\n",
    ")\n",
    "\n",
    "\n",
    "pgd_attack = ProjectedGradientDescent(estimator=art_classifier, eps=EPSILON, eps_step=0.01, max_iter=100)\n",
    "x_test_adv_double = pgd_attack.generate(x=x_test_adv) "
   ]
  },
  {
   "cell_type": "code",
   "execution_count": 83,
   "id": "2e4152a1-39c1-451d-b9fe-c4671bbce738",
   "metadata": {},
   "outputs": [],
   "source": [
    "adv_tensor = torch.tensor(x_test_adv_double).float()\n",
    "labels_tensor = torch.tensor(y_test).long()\n",
    "adv_dataset_double = TensorDataset(adv_tensor, labels_tensor)\n",
    "\n",
    "adv_test_loader_double = DataLoader(adv_dataset_double, batch_size=1, shuffle=False)"
   ]
  },
  {
   "cell_type": "code",
   "execution_count": 88,
   "id": "3cc7caf7-146d-4ffa-89fa-eebe992afcbe",
   "metadata": {},
   "outputs": [
    {
     "name": "stdout",
     "output_type": "stream",
     "text": [
      "VGG19           → Accuracy: 87.40%, Loss: 0.6224\n",
      "ResNet50        → Accuracy: 83.27%, Loss: 0.8782\n",
      "DenseNet169     → Accuracy: 65.43%, Loss: 2.1266\n",
      "MobileNetV2     → Accuracy: 82.50%, Loss: 0.7901\n",
      "GoogleNet       → Accuracy: 57.37%, Loss: 2.8246\n"
     ]
    }
   ],
   "source": [
    "evaluate_model_pool(trained_pool, adv_test_loader_double, device_name, model_names)"
   ]
  },
  {
   "cell_type": "code",
   "execution_count": 89,
   "id": "27053eee-e432-43d5-85ab-d5c708dbe413",
   "metadata": {},
   "outputs": [
    {
     "name": "stdout",
     "output_type": "stream",
     "text": [
      "VGG19           → Accuracy: 89.93%, Loss: 0.4912\n",
      "ResNet50        → Accuracy: 89.20%, Loss: 0.5337\n",
      "DenseNet169     → Accuracy: 68.13%, Loss: 2.1533\n",
      "MobileNetV2     → Accuracy: 88.03%, Loss: 0.5053\n",
      "GoogleNet       → Accuracy: 90.33%, Loss: 0.3606\n"
     ]
    }
   ],
   "source": [
    "evaluate_model_pool(trained_pool, adv_test_loader, device_name, model_names)"
   ]
  },
  {
   "cell_type": "code",
   "execution_count": 93,
   "id": "f9d5682b-d103-4ae0-875c-19cd77487f3b",
   "metadata": {},
   "outputs": [
    {
     "name": "stdout",
     "output_type": "stream",
     "text": [
      "Attacked\n"
     ]
    },
    {
     "data": {
      "application/vnd.jupyter.widget-view+json": {
       "model_id": "e5a743d2a8774798837e8198966a8030",
       "version_major": 2,
       "version_minor": 0
      },
      "text/plain": [
       "PGD - Batches:   0%|          | 0/94 [00:00<?, ?it/s]"
      ]
     },
     "metadata": {},
     "output_type": "display_data"
    }
   ],
   "source": [
    "print(\"Attacked\")\n",
    "TARGET_MODEL_INDEX = 0 \n",
    "EPSILON = 0.05\n",
    "\n",
    "target_model = trained_pool[TARGET_MODEL_INDEX]  \n",
    "target_model = target_model.to(device).eval() \n",
    "\n",
    "dummy_optimizer = torch.optim.Adam(target_model.parameters())\n",
    "loss_fn = nn.CrossEntropyLoss() \n",
    "\n",
    "# Wrap it for ART\n",
    "art_classifier = PyTorchClassifier(\n",
    "    model=target_model,\n",
    "    loss=loss_fn,\n",
    "    optimizer=dummy_optimizer,\n",
    "    input_shape=(1, 32, 32),  \n",
    "    nb_classes=10,\n",
    "    clip_values=(0.0, 1.0),\n",
    ")\n",
    "\n",
    "\n",
    "pgd_attack = ProjectedGradientDescent(estimator=art_classifier, eps=EPSILON, eps_step=0.01, max_iter=100)\n",
    "x_test_adv_triple = pgd_attack.generate(x=x_test_adv_double) "
   ]
  },
  {
   "cell_type": "code",
   "execution_count": 94,
   "id": "c975bca2-e5ce-486d-867e-99426509d2e3",
   "metadata": {},
   "outputs": [],
   "source": [
    "adv_tensor = torch.tensor(x_test_adv_triple).float()\n",
    "labels_tensor = torch.tensor(y_test).long()\n",
    "adv_dataset_triple = TensorDataset(adv_tensor, labels_tensor)\n",
    "\n",
    "adv_test_loader_triple = DataLoader(adv_dataset_triple, batch_size=1, shuffle=False)"
   ]
  },
  {
   "cell_type": "code",
   "execution_count": 95,
   "id": "8d870621-fb75-4a0f-b5b2-26e1bac76987",
   "metadata": {},
   "outputs": [
    {
     "name": "stdout",
     "output_type": "stream",
     "text": [
      "VGG19           → Accuracy: 57.63%, Loss: 3.1138\n",
      "ResNet50        → Accuracy: 76.10%, Loss: 1.2880\n",
      "DenseNet169     → Accuracy: 60.83%, Loss: 2.4065\n",
      "MobileNetV2     → Accuracy: 74.83%, Loss: 1.2047\n",
      "GoogleNet       → Accuracy: 58.50%, Loss: 2.2445\n"
     ]
    }
   ],
   "source": [
    "evaluate_model_pool(trained_pool, adv_test_loader_triple, device_name, model_names)"
   ]
  },
  {
   "cell_type": "markdown",
   "id": "93ca44a0-ccba-411a-bc7e-641286eeea10",
   "metadata": {},
   "source": [
    "### Test attacks "
   ]
  },
  {
   "cell_type": "code",
   "execution_count": 102,
   "id": "68a47bd8-1218-47b9-acac-38f8fae0c8b6",
   "metadata": {},
   "outputs": [
    {
     "name": "stdout",
     "output_type": "stream",
     "text": [
      "True class: 7\n",
      "\n",
      "Explainability Report:\n",
      "Model #0: VGG\n",
      "  - Competence: 1.0000\n",
      "  - Feature similarity: 0.3648\n",
      "  - Combined weight: 0.1304\n",
      "  - Predicted class: 4 with confidence 0.9993\n",
      "  - Top-5: [4, 7, 5, 3, 6] → [0.999, 0.0, 0.0, 0.0, 0.0]\n",
      "--------------------------------------------------\n",
      "Model #1: ResNet\n",
      "  - Competence: 1.0000\n",
      "  - Feature similarity: 0.7482\n",
      "  - Combined weight: 0.2675\n",
      "  - Predicted class: 5 with confidence 0.8076\n",
      "  - Top-5: [5, 4, 7, 3, 8] → [0.808, 0.128, 0.062, 0.001, 0.0]\n",
      "--------------------------------------------------\n",
      "Model #2: DenseNet\n",
      "  - Competence: 1.0000\n",
      "  - Feature similarity: 0.3335\n",
      "  - Combined weight: 0.1192\n",
      "  - Predicted class: 5 with confidence 0.8084\n",
      "  - Top-5: [5, 4, 3, 1, 7] → [0.808, 0.187, 0.002, 0.001, 0.001]\n",
      "--------------------------------------------------\n",
      "Model #3: MobileNetV2\n",
      "  - Competence: 1.0000\n",
      "  - Feature similarity: 0.9403\n",
      "  - Combined weight: 0.3362\n",
      "  - Predicted class: 7 with confidence 0.9896\n",
      "  - Top-5: [7, 5, 4, 3, 9] → [0.99, 0.008, 0.001, 0.0, 0.0]\n",
      "--------------------------------------------------\n",
      "Model #4: GoogLeNet\n",
      "  - Competence: 1.0000\n",
      "  - Feature similarity: 0.4099\n",
      "  - Combined weight: 0.1466\n",
      "  - Predicted class: 4 with confidence 0.9962\n",
      "  - Top-5: [4, 5, 7, 3, 6] → [0.996, 0.001, 0.001, 0.001, 0.0]\n",
      "--------------------------------------------------\n",
      "\n",
      "🧠 Final prediction: 7\n",
      "🔝 Top-5 predictions:\n",
      "  - Class 7: 0.3496\n",
      "  - Class 4: 0.3331\n",
      "  - Class 5: 0.3154\n",
      "  - Class 3: 0.0007\n",
      "  - Class 6: 0.0003\n",
      "\n",
      "Model weight distribution:\n",
      "  Model #0: 0.1304\n",
      "  Model #1: 0.2675\n",
      "  Model #2: 0.1192\n",
      "  Model #3: 0.3362\n",
      "  Model #4: 0.1466\n",
      "Suspected attacked model: Model #2 (DenseNet)\n",
      "\n",
      "RoC visualization:\n"
     ]
    },
    {
     "data": {
      "image/png": "[encoded data removed]",
      "text/plain": [
       "<Figure size 1500x900 with 8 Axes>"
      ]
     },
     "metadata": {},
     "output_type": "display_data"
    },
    {
     "data": {
      "text/plain": [
       "(array([1.3056076e-04, 2.8023068e-04, 1.3127076e-04, 7.9444266e-04,\n",
       "        4.6215421e-01, 3.2506746e-01, 3.2230178e-04, 2.1076858e-01,\n",
       "        2.1546830e-04, 1.3556452e-04], dtype=float32),\n",
       " 4)"
      ]
     },
     "execution_count": 102,
     "metadata": {},
     "output_type": "execute_result"
    }
   ],
   "source": [
    "index = 20\n",
    "\n",
    "print(f\"True class: {adv_dataset_triple[index][1]}\")\n",
    "\n",
    "des_model.predict_weighted_robust_feature_similarity(adv_dataset_triple[index][0], explain=True) \n",
    "\n",
    "soft_model.predict_single_with_probs(adv_dataset_triple[index][0])  "
   ]
  },
  {
   "cell_type": "code",
   "execution_count": 80,
   "id": "113caead-5be1-48fa-8dc4-f4af4c3658a2",
   "metadata": {},
   "outputs": [
    {
     "name": "stderr",
     "output_type": "stream",
     "text": [
      "Testing SoftVoting: 100%|█████████████████████████████████████████████████████████████████████████████████████████████████████████████████████████████████| 3000/3000 [01:39<00:00, 30.11it/s]"
     ]
    },
    {
     "name": "stdout",
     "output_type": "stream",
     "text": [
      "✅ Test Accuracy: 0.9013\n"
     ]
    },
    {
     "name": "stderr",
     "output_type": "stream",
     "text": [
      "\n"
     ]
    }
   ],
   "source": [
    "# =========================\n",
    "# Run Test\n",
    "# =========================\n",
    "test_acc = evaluate_soft(soft_model, adv_test_loader)"
   ]
  },
  {
   "cell_type": "code",
   "execution_count": 81,
   "id": "d037576b-cf85-45dc-b8c8-c2d35873564a",
   "metadata": {},
   "outputs": [
    {
     "name": "stderr",
     "output_type": "stream",
     "text": [
      "Testing VisionDES: 100%|██████████████████████████████████████████████████████████████████████████████████████████████████████████████████████████████████| 3000/3000 [11:37<00:00,  4.30it/s]"
     ]
    },
    {
     "name": "stdout",
     "output_type": "stream",
     "text": [
      "✅ Test Accuracy: 0.9013\n"
     ]
    },
    {
     "name": "stderr",
     "output_type": "stream",
     "text": [
      "\n"
     ]
    }
   ],
   "source": [
    "# =========================\n",
    "# Run Test\n",
    "# =========================\n",
    "# Assume `vision_des` is already created & trained\n",
    "test_acc = evaluate_des(des_model, adv_test_loader)"
   ]
  },
  {
   "cell_type": "markdown",
   "id": "11520bd9-c361-484e-94d2-eff4e235977a",
   "metadata": {},
   "source": [
    "### Double Attack "
   ]
  },
  {
   "cell_type": "code",
   "execution_count": 90,
   "id": "92f61537-9d5b-41ef-b7a9-752376237d8a",
   "metadata": {},
   "outputs": [
    {
     "name": "stderr",
     "output_type": "stream",
     "text": [
      "Testing SoftVoting: 100%|█████████████████████████████████████████████████████████████████████████████████████████████████████████████████████████████████| 3000/3000 [01:42<00:00, 29.29it/s]"
     ]
    },
    {
     "name": "stdout",
     "output_type": "stream",
     "text": [
      "✅ Test Accuracy: 0.8017\n"
     ]
    },
    {
     "name": "stderr",
     "output_type": "stream",
     "text": [
      "\n"
     ]
    }
   ],
   "source": [
    "# =========================\n",
    "# Run Test\n",
    "# =========================\n",
    "test_acc = evaluate_soft(soft_model, adv_test_loader_double) "
   ]
  },
  {
   "cell_type": "code",
   "execution_count": 91,
   "id": "2d3c399c-65de-48bd-9ce4-4ed6592147ab",
   "metadata": {},
   "outputs": [
    {
     "name": "stderr",
     "output_type": "stream",
     "text": [
      "Testing VisionDES: 100%|██████████████████████████████████████████████████████████████████████████████████████████████████████████████████████████████████| 3000/3000 [10:59<00:00,  4.55it/s]"
     ]
    },
    {
     "name": "stdout",
     "output_type": "stream",
     "text": [
      "✅ Test Accuracy: 0.8263\n"
     ]
    },
    {
     "name": "stderr",
     "output_type": "stream",
     "text": [
      "\n"
     ]
    }
   ],
   "source": [
    "# =========================\n",
    "# Run Test\n",
    "# =========================\n",
    "# Assume `vision_des` is already created & trained\n",
    "test_acc = evaluate_des(des_model, adv_test_loader_double)"
   ]
  },
  {
   "cell_type": "markdown",
   "id": "0907b71e-117f-4374-b085-6ee494447d00",
   "metadata": {},
   "source": [
    "### Triple Attack"
   ]
  },
  {
   "cell_type": "code",
   "execution_count": 99,
   "id": "a5a55c07-2014-467f-a110-5f062b48fa88",
   "metadata": {},
   "outputs": [
    {
     "name": "stderr",
     "output_type": "stream",
     "text": [
      "Testing SoftVoting: 100%|█████████████████████████████████████████████████████████████████████████████████████████████████████████████████████████████████| 3000/3000 [01:41<00:00, 29.54it/s]"
     ]
    },
    {
     "name": "stdout",
     "output_type": "stream",
     "text": [
      "✅ Test Accuracy: 0.6897\n"
     ]
    },
    {
     "name": "stderr",
     "output_type": "stream",
     "text": [
      "\n"
     ]
    }
   ],
   "source": [
    "# =========================\n",
    "# Run Test\n",
    "# =========================\n",
    "test_acc = evaluate_soft(soft_model, adv_test_loader_triple) "
   ]
  },
  {
   "cell_type": "code",
   "execution_count": 100,
   "id": "32683cf0-d082-48b7-ba35-b65d470f553c",
   "metadata": {},
   "outputs": [
    {
     "name": "stderr",
     "output_type": "stream",
     "text": [
      "Testing VisionDES: 100%|██████████████████████████████████████████████████████████████████████████████████████████████████████████████████████████████████| 3000/3000 [11:34<00:00,  4.32it/s]"
     ]
    },
    {
     "name": "stdout",
     "output_type": "stream",
     "text": [
      "✅ Test Accuracy: 0.7167\n"
     ]
    },
    {
     "name": "stderr",
     "output_type": "stream",
     "text": [
      "\n"
     ]
    }
   ],
   "source": [
    "# =========================\n",
    "# Run Test\n",
    "# =========================\n",
    "# Assume `vision_des` is already created & trained\n",
    "test_acc = evaluate_des(des_model, adv_test_loader_triple)"
   ]
  },
  {
   "cell_type": "code",
   "execution_count": null,
   "id": "409bb021-b0ef-4f2b-9df1-82820d9cb9f6",
   "metadata": {},
   "outputs": [],
   "source": []
  }
 ],
 "metadata": {
  "kernelspec": {
   "display_name": "Python 3 (ipykernel)",
   "language": "python",
   "name": "python3"
  },
  "language_info": {
   "codemirror_mode": {
    "name": "ipython",
    "version": 3
   },
   "file_extension": ".py",
   "mimetype": "text/x-python",
   "name": "python",
   "nbconvert_exporter": "python",
   "pygments_lexer": "ipython3",
   "version": "3.9.23"
  }
 },
 "nbformat": 4,
 "nbformat_minor": 5
}
