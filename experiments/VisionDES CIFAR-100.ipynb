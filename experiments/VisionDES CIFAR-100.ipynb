{
 "cells": [
  {
   "cell_type": "code",
   "execution_count": 4,
   "id": "b77c0b9f-ff62-4b61-9dc3-c58ecd3a0ea6",
   "metadata": {},
   "outputs": [],
   "source": [
    "import os \n",
    "\n",
    "from PIL import Image\n",
    "import numpy as np\n",
    "import matplotlib.pyplot as plt"
   ]
  },
  {
   "cell_type": "code",
   "execution_count": 5,
   "id": "f2e7465b-e389-4a49-89c6-84283b088752",
   "metadata": {},
   "outputs": [],
   "source": [
    "import torch\n",
    "import torch.nn as nn\n",
    "import torch.nn.functional as F\n",
    "import torchvision.transforms as transforms"
   ]
  },
  {
   "cell_type": "code",
   "execution_count": 6,
   "id": "f76e10c2-69ac-4d2c-90c5-cdcc8e6aea5f",
   "metadata": {},
   "outputs": [
    {
     "data": {
      "text/plain": [
       "'2.7.1+cu126'"
      ]
     },
     "execution_count": 6,
     "metadata": {},
     "output_type": "execute_result"
    }
   ],
   "source": [
    "torch.__version__"
   ]
  },
  {
   "cell_type": "code",
   "execution_count": 7,
   "id": "81d510d1-f9ee-4d2d-a7e1-b989e90df349",
   "metadata": {},
   "outputs": [
    {
     "data": {
      "text/plain": [
       "True"
      ]
     },
     "execution_count": 7,
     "metadata": {},
     "output_type": "execute_result"
    }
   ],
   "source": [
    "torch.cuda.is_available() "
   ]
  },
  {
   "cell_type": "code",
   "execution_count": 8,
   "id": "eb9ff8e9-8aee-4740-acc8-23e38081b393",
   "metadata": {},
   "outputs": [],
   "source": [
    "cifar100_labels = {\n",
    "    0:  'apple',\n",
    "    1:  'aquarium_fish',\n",
    "    2:  'baby',\n",
    "    3:  'bear',\n",
    "    4:  'beaver',\n",
    "    5:  'bed',\n",
    "    6:  'bee',\n",
    "    7:  'beetle',\n",
    "    8:  'bicycle',\n",
    "    9:  'bottle',\n",
    "    10: 'bowl',\n",
    "    11: 'boy',\n",
    "    12: 'bridge',\n",
    "    13: 'bus',\n",
    "    14: 'butterfly',\n",
    "    15: 'camel',\n",
    "    16: 'can',\n",
    "    17: 'castle',\n",
    "    18: 'caterpillar',\n",
    "    19: 'cattle',\n",
    "    20: 'chair',\n",
    "    21: 'chimpanzee',\n",
    "    22: 'clock',\n",
    "    23: 'cloud',\n",
    "    24: 'cockroach',\n",
    "    25: 'couch',\n",
    "    26: 'crab',\n",
    "    27: 'crocodile',\n",
    "    28: 'cup',\n",
    "    29: 'dinosaur',\n",
    "    30: 'dolphin',\n",
    "    31: 'elephant',\n",
    "    32: 'flatfish',\n",
    "    33: 'forest',\n",
    "    34: 'fox',\n",
    "    35: 'girl',\n",
    "    36: 'hamster',\n",
    "    37: 'house',\n",
    "    38: 'kangaroo',\n",
    "    39: 'keyboard',\n",
    "    40: 'lamp',\n",
    "    41: 'lawn_mower',\n",
    "    42: 'leopard',\n",
    "    43: 'lion',\n",
    "    44: 'lizard',\n",
    "    45: 'lobster',\n",
    "    46: 'man',\n",
    "    47: 'maple_tree',\n",
    "    48: 'motorcycle',\n",
    "    49: 'mountain',\n",
    "    50: 'mouse',\n",
    "    51: 'mushroom',\n",
    "    52: 'oak_tree',\n",
    "    53: 'orange',\n",
    "    54: 'orchid',\n",
    "    55: 'otter',\n",
    "    56: 'palm_tree',\n",
    "    57: 'pear',\n",
    "    58: 'pickup_truck',\n",
    "    59: 'pine_tree',\n",
    "    60: 'plain',\n",
    "    61: 'plate',\n",
    "    62: 'poppy',\n",
    "    63: 'porcupine',\n",
    "    64: 'possum',\n",
    "    65: 'rabbit',\n",
    "    66: 'raccoon',\n",
    "    67: 'ray',\n",
    "    68: 'road',\n",
    "    69: 'rocket',\n",
    "    70: 'rose',\n",
    "    71: 'sea',\n",
    "    72: 'seal',\n",
    "    73: 'shark',\n",
    "    74: 'shrew',\n",
    "    75: 'skunk',\n",
    "    76: 'skyscraper',\n",
    "    77: 'snail',\n",
    "    78: 'snake',\n",
    "    79: 'spider',\n",
    "    80: 'squirrel',\n",
    "    81: 'streetcar',\n",
    "    82: 'sunflower',\n",
    "    83: 'sweet_pepper',\n",
    "    84: 'table',\n",
    "    85: 'tank',\n",
    "    86: 'telephone',\n",
    "    87: 'television',\n",
    "    88: 'tiger',\n",
    "    89: 'tractor',\n",
    "    90: 'train',\n",
    "    91: 'trout',\n",
    "    92: 'tulip',\n",
    "    93: 'turtle',\n",
    "    94: 'wardrobe',\n",
    "    95: 'whale',\n",
    "    96: 'willow_tree',\n",
    "    97: 'wolf',\n",
    "    98: 'woman',\n",
    "    99: 'worm'\n",
    "}\n"
   ]
  },
  {
   "cell_type": "code",
   "execution_count": 9,
   "id": "1d932419-3c2a-45bf-a6ca-aae6607b9a30",
   "metadata": {},
   "outputs": [],
   "source": [
    "import matplotlib.pyplot as plt\n",
    "import torchvision.transforms.functional as TF\n",
    "\n",
    "def show_images_of_class(dataset, target_class, num_images=20, class_names=None):\n",
    "    \"\"\"\n",
    "    Display images of a given class from the dataset.\n",
    "\n",
    "    Args:\n",
    "        dataset: PyTorch dataset, should return (image, label) tuples.\n",
    "        target_class: int, the class label to filter images by.\n",
    "        num_images: int, how many images to show.\n",
    "        class_names: list or dict, optional, maps class indices to names.\n",
    "    \"\"\"\n",
    "    imgs_to_show = []\n",
    "    count = 0\n",
    "\n",
    "    for img, label in dataset:\n",
    "        if label == target_class:\n",
    "            imgs_to_show.append(img)\n",
    "            count += 1\n",
    "            if count == num_images:\n",
    "                break\n",
    "\n",
    "    if count == 0:\n",
    "        print(f\"No images found for class {target_class}\")\n",
    "        return\n",
    "\n",
    "    # Prepare grid display\n",
    "    ncols = 5\n",
    "    nrows = (count + ncols - 1) // ncols\n",
    "    plt.figure(figsize=(3 * ncols, 3 * nrows))\n",
    "\n",
    "    for i, img in enumerate(imgs_to_show):\n",
    "        plt.subplot(nrows, ncols, i + 1)\n",
    "        # Assuming img is normalized tensor; denormalize if needed\n",
    "        # Here assuming ImageNet normalization, adjust if different:\n",
    "        mean = [0.485, 0.456, 0.406]\n",
    "        std = [0.229, 0.224, 0.225]\n",
    "        img = img.clone()\n",
    "        for t, m, s in zip(img, mean, std):\n",
    "            t.mul_(s).add_(m)\n",
    "        img = img.clamp(0, 1)\n",
    "        plt.imshow(TF.to_pil_image(img))\n",
    "        label_name = target_class if class_names is None else class_names[target_class]\n",
    "        plt.title(f\"Class: {label_name}\")\n",
    "        plt.axis('off')\n",
    "\n",
    "    plt.tight_layout()\n",
    "    plt.show()\n"
   ]
  },
  {
   "cell_type": "code",
   "execution_count": 10,
   "id": "56d3c936-5dde-4933-9f39-3bb33891aa24",
   "metadata": {},
   "outputs": [],
   "source": [
    "### import archetecture of models \n",
    "\n",
    "from model_codes_cifar100.vgg_cifar100 import * \n",
    "from model_codes_cifar100.resnet_cifar100 import * \n",
    "from model_codes_cifar100.densenet_cifar100 import * \n",
    "from model_codes_cifar100.mobilenetv2_cifar100 import * \n",
    "from model_codes_cifar100.googlenet_cifar100 import * \n",
    "from model_codes_cifar100.inceptionv3_cifar100 import * "
   ]
  },
  {
   "cell_type": "code",
   "execution_count": 11,
   "id": "620e1737-08f7-47aa-9c79-473d578ac677",
   "metadata": {},
   "outputs": [],
   "source": [
    "## getting the archetecture of model from models.vgg_models \n",
    "vgg19_model = VGG('VGG19')\n",
    "resnet50_model = resnet50() \n",
    "densenet169_model = densenet169() \n",
    "mobilenetV2_model = MobileNetV2() \n",
    "googlenet_model = googlenet()  \n",
    "inceptionv3_model = inceptionv3()"
   ]
  },
  {
   "cell_type": "code",
   "execution_count": 12,
   "id": "f547276c-6ad7-4530-b3d9-1a8315e3ca14",
   "metadata": {},
   "outputs": [
    {
     "data": {
      "text/plain": [
       "<All keys matched successfully>"
      ]
     },
     "execution_count": 12,
     "metadata": {},
     "output_type": "execute_result"
    }
   ],
   "source": [
    "trained_models_directory = \"trained_models_cifar100/\" \n",
    "device_name = 'cuda:0' \n",
    "\n",
    "vgg_19_model_file_name = \"vgg19_cifar100.pth\" \n",
    "resnet50_model_file_name = \"resnet50_cifar100.pth\" \n",
    "densenet169_model_file_name = \"densenet169_cifar100.pth\" \n",
    "mobilenetV2_model_file_name = \"mobilenetv2_cifar100.pth\" \n",
    "googlenet_model_file_name = \"googlenet_cifar100.pth\" \n",
    "inception_model_file_name = \"inceptionv3_cifar100.pth\"\n",
    "\n",
    "vgg19_path = os.path.join(trained_models_directory, vgg_19_model_file_name) \n",
    "resnet50_path = os.path.join(trained_models_directory, resnet50_model_file_name) \n",
    "densenet169_path = os.path.join(trained_models_directory, densenet169_model_file_name) \n",
    "mobilenetV2_path = os.path.join(trained_models_directory, mobilenetV2_model_file_name) \n",
    "googlenet_path = os.path.join(trained_models_directory, googlenet_model_file_name) \n",
    "inception_path = os.path.join(trained_models_directory, inception_model_file_name)\n",
    "\n",
    "## load the model \n",
    "vgg19_model.load_state_dict(torch.load(vgg19_path, map_location=device_name)['net'])\n",
    "resnet50_model.load_state_dict(torch.load(resnet50_path, map_location=device_name)['net'])\n",
    "densenet169_model.load_state_dict(torch.load(densenet169_path, map_location=device_name)['net'])\n",
    "mobilenetV2_model.load_state_dict(torch.load(mobilenetV2_path, map_location=device_name)['net'])\n",
    "googlenet_model.load_state_dict(torch.load(googlenet_path, map_location=device_name)['net'])\n",
    "inceptionv3_model.load_state_dict(torch.load(inception_path, map_location=device_name)['net'])"
   ]
  },
  {
   "cell_type": "code",
   "execution_count": 13,
   "id": "dc0d0fe8-593e-4a3c-8160-a2739a37aa5e",
   "metadata": {},
   "outputs": [],
   "source": [
    "trained_pool = [vgg19_model.eval(), \n",
    "                resnet50_model.eval(), \n",
    "                densenet169_model.eval(), \n",
    "                # mobilenetV2_model.eval(), \n",
    "                googlenet_model.eval(), \n",
    "                inceptionv3_model.eval(), \n",
    "               ]\n",
    "\n",
    "\n",
    "model_names = [\n",
    "    \"VGG19\",\n",
    "    \"ResNet50\",\n",
    "    \"DenseNet169\",\n",
    "    # \"MobileNetV2\",\n",
    "    \"GoogleNet\", \n",
    "    \"InceptionV3\"\n",
    "]"
   ]
  },
  {
   "cell_type": "markdown",
   "id": "6595ff03-f984-4f18-96ef-450d573d0261",
   "metadata": {},
   "source": [
    "### Load Dataset "
   ]
  },
  {
   "cell_type": "code",
   "execution_count": 14,
   "id": "649e5edc-829e-4a00-8783-6a96e2be035d",
   "metadata": {},
   "outputs": [
    {
     "name": "stdout",
     "output_type": "stream",
     "text": [
      "Validation samples: 9000\n",
      "Test samples: 1000\n"
     ]
    }
   ],
   "source": [
    "import torch\n",
    "import torchvision\n",
    "import torchvision.transforms as transforms\n",
    "from torch.utils.data import random_split, DataLoader\n",
    "\n",
    "transform = transforms.Compose([\n",
    "    transforms.ToTensor(),\n",
    "    transforms.Normalize((0.4914, 0.4822, 0.4465), (0.2023, 0.1994, 0.2010)),\n",
    "])\n",
    "\n",
    "# Load the full CIFAR10 test set (10,000 samples)\n",
    "full_testset = torchvision.datasets.CIFAR100(\n",
    "    root='./data', train=False, download=True, transform=transform)\n",
    "\n",
    "# Calculate split sizes\n",
    "val_size = int(0.9 * len(full_testset))  # 7000\n",
    "test_size = len(full_testset) - val_size  # 3000\n",
    "\n",
    "# Randomly split into validation and test subsets\n",
    "val_set, test_set = random_split(\n",
    "    full_testset, [val_size, test_size],\n",
    "    generator=torch.Generator().manual_seed(42)\n",
    ")\n",
    "\n",
    "# Create DataLoaders\n",
    "valloader = DataLoader(val_set, batch_size=100, shuffle=False, num_workers=2)\n",
    "testloader = DataLoader(test_set, batch_size=100, shuffle=False, num_workers=2)\n",
    "\n",
    "print(f\"Validation samples: {len(val_set)}\")\n",
    "print(f\"Test samples: {len(test_set)}\")"
   ]
  },
  {
   "cell_type": "markdown",
   "id": "8adc9c5e-7582-4f5c-82e7-cba7c0db1085",
   "metadata": {},
   "source": [
    "### Evalaute base models "
   ]
  },
  {
   "cell_type": "code",
   "execution_count": 15,
   "id": "05d16c8d-e142-448c-ac48-e23615b8537c",
   "metadata": {},
   "outputs": [],
   "source": [
    "def evaluate_model(model, dataloader, device):\n",
    "    model.eval()\n",
    "    model.to(device)\n",
    "\n",
    "    correct = 0\n",
    "    total = 0\n",
    "    total_loss = 0.0\n",
    "\n",
    "    with torch.no_grad():\n",
    "        for images, labels in dataloader:\n",
    "            images, labels = images.to(device), labels.to(device)\n",
    "            outputs = model(images)\n",
    "            loss = F.cross_entropy(outputs, labels)\n",
    "            total_loss += loss.item() * images.size(0)\n",
    "\n",
    "            _, predicted = torch.max(outputs.data, 1)\n",
    "            total += labels.size(0)\n",
    "            correct += (predicted == labels).sum().item()\n",
    "\n",
    "    avg_loss = total_loss / total\n",
    "    accuracy = 100 * correct / total\n",
    "    return avg_loss, accuracy\n",
    "\n",
    "\n",
    "def evaluate_model_pool(model_pool, dataloader, device, model_names=None):\n",
    "    if model_names is None:\n",
    "        model_names = [f\"Model {i+1}\" for i in range(len(model_pool))]\n",
    "\n",
    "    for model, name in zip(model_pool, model_names):\n",
    "        loss, acc = evaluate_model(model, dataloader, device)\n",
    "        print(f\"{name:<15} → Accuracy: {acc:.2f}%, Loss: {loss:.4f}\")\n"
   ]
  },
  {
   "cell_type": "code",
   "execution_count": 16,
   "id": "cc8d71d0-c92f-4da2-9467-1b168c430f37",
   "metadata": {},
   "outputs": [
    {
     "name": "stdout",
     "output_type": "stream",
     "text": [
      "VGG19           → Accuracy: 71.20%, Loss: 1.5808\n",
      "ResNet50        → Accuracy: 76.80%, Loss: 0.9865\n",
      "DenseNet169     → Accuracy: 77.10%, Loss: 1.0431\n",
      "GoogleNet       → Accuracy: 74.50%, Loss: 1.0952\n",
      "InceptionV3     → Accuracy: 76.10%, Loss: 1.0398\n"
     ]
    }
   ],
   "source": [
    "evaluate_model_pool(trained_pool, testloader, device_name, model_names)"
   ]
  },
  {
   "cell_type": "markdown",
   "id": "1398a0b8-19ac-41d4-a4c3-e0ec77209786",
   "metadata": {},
   "source": [
    "### VisionDES model "
   ]
  },
  {
   "cell_type": "code",
   "execution_count": 53,
   "id": "e391172e-f474-4e35-a3de-6fa8caa8b5ac",
   "metadata": {},
   "outputs": [],
   "source": [
    "from torch.nn.functional import softmax, cosine_similarity\n",
    "from collections import Counter\n",
    "import matplotlib.pyplot as plt\n",
    "import torchvision.transforms.functional as TF\n",
    "import torch\n",
    "import torch.nn as nn\n",
    "import numpy as np\n",
    "import faiss\n",
    "from torch.utils.data import DataLoader\n",
    "from tqdm import tqdm\n",
    "import clip\n",
    "\n",
    "device = torch.device(\"cuda\" if torch.cuda.is_available() else \"cpu\")\n",
    "\n",
    "\n",
    "import torch\n",
    "import torch.nn as nn\n",
    "\n",
    "def get_last_linear_layer(model):\n",
    "    \"\"\"\n",
    "    Try to find the last Linear layer in the model,\n",
    "    using common attribute names and fallback to scanning modules.\n",
    "    \"\"\"\n",
    "    name = model.__class__.__name__.lower()\n",
    "\n",
    "    # Common last layer attribute names to try (ViT, EfficientNet, etc)\n",
    "    candidate_attrs = ['head', 'heads', 'classifier', 'fc', 'mlp_head']\n",
    "\n",
    "    for attr in candidate_attrs:\n",
    "        if hasattr(model, attr):\n",
    "            layer = getattr(model, attr)\n",
    "            # If it's directly a Linear layer\n",
    "            if isinstance(layer, nn.Linear):\n",
    "                return layer\n",
    "            # If Sequential or Module, find last Linear inside it\n",
    "            if isinstance(layer, nn.Sequential) or isinstance(layer, nn.Module):\n",
    "                # Find last Linear inside this attribute recursively\n",
    "                last_linear = None\n",
    "                for child in reversed(list(layer.modules())):\n",
    "                    if isinstance(child, nn.Linear):\n",
    "                        last_linear = child\n",
    "                        break\n",
    "                if last_linear is not None:\n",
    "                    return last_linear\n",
    "\n",
    "    # Fallback: scan all modules and pick the last Linear\n",
    "    last_linear = None\n",
    "    for m in model.modules():\n",
    "        if isinstance(m, nn.Linear):\n",
    "            last_linear = m\n",
    "    if last_linear is not None:\n",
    "        return last_linear\n",
    "\n",
    "    raise RuntimeError(\"No Linear layer found in model\")\n",
    "\n",
    "\n",
    "def get_features_before_last_linear(model, x):\n",
    "    features = {}\n",
    "\n",
    "    def find_last_linear(module):\n",
    "        last_linear = None\n",
    "        for m in module.modules():\n",
    "            if isinstance(m, torch.nn.Linear):\n",
    "                last_linear = m\n",
    "        return last_linear\n",
    "\n",
    "    last_linear = find_last_linear(model)\n",
    "    if last_linear is None:\n",
    "        raise RuntimeError(\"No Linear layer found in model\")\n",
    "\n",
    "    def hook(module, input, output):\n",
    "        features['feat'] = input[0].detach()\n",
    "\n",
    "    handle = last_linear.register_forward_hook(hook)\n",
    "\n",
    "    model.eval()\n",
    "    with torch.no_grad():\n",
    "        _ = model(x)\n",
    "\n",
    "    handle.remove()\n",
    "\n",
    "    if 'feat' not in features:\n",
    "        raise RuntimeError(\"Failed to capture features from last linear layer\")\n",
    "\n",
    "    return features['feat']\n",
    "    \n",
    "\n",
    "class VisionDES:\n",
    "    def __init__(self, dsel_dataset, pool, resnet50_model):\n",
    "        self.dsel_dataset = dsel_dataset\n",
    "        self.dsel_loader = DataLoader(dsel_dataset, batch_size=32, shuffle=False)\n",
    "        self.pool = pool\n",
    "        self.suspected_model_votes = []\n",
    "\n",
    "        # Use your trained ResNet50 as embedding extractor\n",
    "        self.resnet50 = resnet50_model.to(device)\n",
    "        self.resnet50.eval()\n",
    "\n",
    "        # Remove classification head to get embeddings\n",
    "        self.embedding_extractor = nn.Sequential(*list(self.resnet50.children())[:-1]).to(device)\n",
    "        self.embedding_extractor.eval()\n",
    "\n",
    "    \n",
    "    def visualize_test_and_roc(self, test_img, roc_imgs, local_labels, class_names=None):\n",
    "        def denormalize(img_tensor, mean, std):\n",
    "            mean = torch.tensor(mean).view(-1, 1, 1).to(img_tensor.device)\n",
    "            std = torch.tensor(std).view(-1, 1, 1).to(img_tensor.device)\n",
    "            return img_tensor * std + mean\n",
    "        \"\"\"\n",
    "        Display test image and its Region of Competence (RoC) images with labels.\n",
    "        \n",
    "        Args:\n",
    "            test_img (torch.Tensor): Shape (C, H, W)\n",
    "            roc_imgs (torch.Tensor): Shape (k, C, H, W)\n",
    "            local_labels (np.ndarray): Shape (k,)\n",
    "            class_names (list): Optional list of class names\n",
    "        \"\"\"\n",
    "        mean = [0.485, 0.456, 0.406]\n",
    "        std  = [0.229, 0.224, 0.225] \n",
    "\n",
    "        k = roc_imgs.size(0)\n",
    "        ncols = min(k, 5)\n",
    "        nrows = 1 + (k + ncols - 1) // ncols  # one row for test image + RoC images\n",
    "    \n",
    "        plt.figure(figsize=(3 * ncols, 3 * nrows))\n",
    "    \n",
    "        # Plot test image\n",
    "        plt.subplot(nrows, ncols, 1)\n",
    "        denorm_img = denormalize(test_img, mean, std).clamp(0, 1)\n",
    "        img_np = TF.to_pil_image(denorm_img.cpu())\n",
    "        plt.imshow(img_np)\n",
    "        plt.title(\"Test Image\")\n",
    "        plt.axis(\"off\")\n",
    "    \n",
    "        # Plot RoC images\n",
    "        for i in range(k):\n",
    "            plt.subplot(nrows, ncols, i + 2)\n",
    "            denorm_img = denormalize(roc_imgs[i], mean, std).clamp(0, 1)\n",
    "            img_np = TF.to_pil_image(denorm_img.cpu())\n",
    "            label = local_labels[i]\n",
    "            if class_names:\n",
    "                label = class_names[label]\n",
    "            plt.imshow(img_np)\n",
    "            plt.title(f\"RoC #{i+1}\\nLabel: {label}\")\n",
    "            plt.axis(\"off\")\n",
    "    \n",
    "        plt.tight_layout()\n",
    "        plt.show()\n",
    "        \n",
    "\n",
    "    def resnet_embedder(self, images):\n",
    "        \"\"\"Extract embeddings from trained ResNet50.\"\"\"\n",
    "        with torch.no_grad():\n",
    "            feats = self.embedding_extractor(images)  # [B, C, 1, 1]\n",
    "            feats = feats.view(feats.size(0), -1)     # [B, C]\n",
    "        return feats\n",
    "\n",
    "    def fit(self):\n",
    "        dsel_embeddings = []\n",
    "        dsel_labels = []\n",
    "\n",
    "        with torch.no_grad():\n",
    "            for imgs, labels in tqdm(self.dsel_loader, desc=\"Extracting DSEL embeddings\"):\n",
    "                imgs = imgs.to(device)\n",
    "                embs = self.resnet_embedder(imgs).cpu()\n",
    "                dsel_embeddings.append(embs)\n",
    "                dsel_labels.append(labels)\n",
    "\n",
    "        dsel_embeddings_tensor = torch.cat(dsel_embeddings).detach().cpu()\n",
    "        cls_embeddings = np.ascontiguousarray(dsel_embeddings_tensor.numpy(), dtype='float32')\n",
    "        self.dsel_embeddings = cls_embeddings\n",
    "        self.dsel_labels = torch.cat(dsel_labels).numpy()\n",
    "\n",
    "        # Build FAISS index\n",
    "        embedding_dim = cls_embeddings.shape[1]\n",
    "        self.index = faiss.IndexFlatL2(embedding_dim)\n",
    "        self.index.add(cls_embeddings)\n",
    "\n",
    "    def get_output_size(self, model):\n",
    "        \"\"\"Get classifier output size.\"\"\"\n",
    "        if hasattr(model, 'fc'):\n",
    "            return model.fc.out_features\n",
    "        elif hasattr(model, 'classifier'):\n",
    "            if isinstance(model.classifier, nn.Sequential):\n",
    "                return model.classifier[-1].out_features\n",
    "            else:\n",
    "                return model.classifier.out_features\n",
    "        else:\n",
    "            raise AttributeError(\"Cannot determine output size of the model.\")\n",
    "\n",
    "    def predict_weighted_robust_feature_similarity(self, test_img, k=7, return_logits=False, explain=False):\n",
    "        # 1️⃣ ResNet50 embedding for test image\n",
    "        img_for_resnet = test_img.unsqueeze(0).to(device)\n",
    "        with torch.no_grad():\n",
    "            test_emb = self.resnet_embedder(img_for_resnet).cpu().numpy().astype('float32')\n",
    "\n",
    "        # 2️⃣ Find RoC from FAISS\n",
    "        _, neighbors = self.index.search(test_emb, k)\n",
    "        neighbor_idxs = neighbors[0]\n",
    "        local_labels = np.array(self.dsel_labels[neighbor_idxs]).flatten()\n",
    "\n",
    "        # 3️⃣ Get RoC images\n",
    "        with torch.no_grad():\n",
    "            roc_imgs = torch.stack([self.dsel_dataset[idx][0] for idx in neighbor_idxs]).to(device)\n",
    "\n",
    "        competences = []\n",
    "        soft_outputs = []\n",
    "        feature_similarities = []\n",
    "\n",
    "        # 4️⃣ Evaluate pool\n",
    "        for clf in self.pool:\n",
    "            clf.eval()\n",
    "            with torch.no_grad():\n",
    "                # print(clf.__class__.__name__)\n",
    "                outputs = clf(roc_imgs)\n",
    "                preds = outputs.argmax(dim=1).cpu().numpy()\n",
    "                correct = (preds == local_labels).sum()\n",
    "                competence = correct / k\n",
    "                competences.append(competence)\n",
    "\n",
    "                logits = clf(test_img.unsqueeze(0).to(device)).squeeze(0)\n",
    "                probs = softmax(logits, dim=0)\n",
    "                soft_outputs.append(probs)\n",
    "\n",
    "                # Feature similarity using ResNet embeddings\n",
    "                test_feat = get_features_before_last_linear(clf, test_img.unsqueeze(0).to(device))\n",
    "                roc_feats = get_features_before_last_linear(clf, roc_imgs)\n",
    "                mean_feat = roc_feats.mean(dim=0, keepdim=True)\n",
    "\n",
    "                sim = cosine_similarity(test_feat / test_feat.norm(), mean_feat / mean_feat.norm(), dim=1)\n",
    "                feature_similarities.append(sim.item())\n",
    "\n",
    "        # 5️⃣ Combine scores\n",
    "        alpha = 1.0\n",
    "        combined_scores = [c * (s / alpha) for c, s in zip(competences, feature_similarities)]\n",
    "\n",
    "        total_score = sum(combined_scores)\n",
    "        if total_score == 0:\n",
    "            weights = [1.0 / len(self.pool)] * len(self.pool)\n",
    "        else:\n",
    "            weights = [s / total_score for s in combined_scores]\n",
    "\n",
    "        # 6️⃣ Weighted aggregation\n",
    "        num_classes = self.get_output_size(self.pool[0])\n",
    "        weighted_logits = torch.zeros(num_classes).to(device)\n",
    "        for prob, weight in zip(soft_outputs, weights):\n",
    "            weighted_logits += weight * prob\n",
    "\n",
    "        min_sim_idx = int(np.argmin(feature_similarities))\n",
    "        self.suspected_model_votes.append(min_sim_idx)\n",
    "\n",
    "        # Step 8: Optional explainability\n",
    "        if explain:\n",
    "            print(\"\\nExplainability Report:\")\n",
    "            for idx, (clf, comp, sim, weight, prob) in enumerate(zip(self.pool, competences, feature_similarities, weights, soft_outputs)):\n",
    "                pred_class = prob.argmax().item()\n",
    "                conf = prob[pred_class].item()\n",
    "                topk = torch.topk(prob, k=5)\n",
    "                print(f\"Model #{idx}: {clf.__class__.__name__}\")\n",
    "                print(f\"  - Competence: {comp:.4f}\")\n",
    "                print(f\"  - Feature similarity: {sim:.4f}\")\n",
    "                print(f\"  - Combined weight: {weight:.4f}\")\n",
    "                print(f\"  - Predicted class: {pred_class} with confidence {conf:.4f}\")\n",
    "                print(f\"  - Top-5: {topk.indices.tolist()} → {[round(p.item(), 3) for p in topk.values]}\")\n",
    "                print(\"-\" * 50)\n",
    "    \n",
    "            print(f\"\\n🧠 Final prediction: {weighted_logits.argmax().item()}\")\n",
    "            top5 = torch.topk(weighted_logits, k=5)\n",
    "            print(f\"🔝 Top-5 predictions:\")\n",
    "            for i in range(5):\n",
    "                print(f\"  - Class {top5.indices[i].item()}: {top5.values[i].item():.4f}\")\n",
    "    \n",
    "            print(\"\\nModel weight distribution:\")\n",
    "            for idx, w in enumerate(weights):\n",
    "                print(f\"  Model #{idx}: {w:.4f}\")\n",
    "            print(f\"Suspected attacked model: Model #{min_sim_idx} ({self.pool[min_sim_idx].__class__.__name__})\")\n",
    "    \n",
    "            print(\"\\nRoC visualization:\")\n",
    "            self.visualize_test_and_roc(test_img.squeeze(0), roc_imgs, local_labels)\n",
    "\n",
    "            \n",
    "            to_pil = transforms.ToPILImage()\n",
    "            pil_image = to_pil(test_img.cpu()) \n",
    "            clip_model, preprocess = clip.load(\"ViT-B/32\", device=device) \n",
    "            \n",
    "            tokens = [] \n",
    "            for i in range(5): \n",
    "                top_class = cifar100_labels[top5.indices[i].item()]  \n",
    "                tokens.append(f\"Image has {top_class}\") \n",
    "                \n",
    "            image = preprocess(pil_image).unsqueeze(0).to(device)     \n",
    "            text = clip.tokenize(tokens).to(device)\n",
    "\n",
    "            with torch.no_grad():\n",
    "                image_features = clip_model.encode_image(image)\n",
    "                text_features = clip_model.encode_text(text)\n",
    "                \n",
    "                logits_per_image, logits_per_text = clip_model(image, text)\n",
    "                probs = logits_per_image.softmax(dim=-1).cpu().numpy()\n",
    "                \n",
    "            for i in range(5): \n",
    "                print(f\"{tokens[i]}: {probs[0][i]}\")\n",
    "            \n",
    "            \n",
    "\n",
    "        if return_logits:\n",
    "            return weighted_logits\n",
    "        return weighted_logits.argmax().item()"
   ]
  },
  {
   "cell_type": "code",
   "execution_count": 54,
   "id": "dd1f8cf1-406d-42ae-940b-be2d8ee034a9",
   "metadata": {},
   "outputs": [],
   "source": [
    "des_model = VisionDES(val_set, trained_pool, resnet50_model.eval())\n",
    "# des_model = VisionDES(val_set, trained_pool)  "
   ]
  },
  {
   "cell_type": "code",
   "execution_count": 55,
   "id": "24cd993a-c658-44ca-926d-849728bfa1de",
   "metadata": {},
   "outputs": [
    {
     "name": "stderr",
     "output_type": "stream",
     "text": [
      "Extracting DSEL embeddings: 100%|█████████████████████████████████████| 282/282 [00:03<00:00, 74.69it/s]\n"
     ]
    }
   ],
   "source": [
    "des_model.fit()"
   ]
  },
  {
   "cell_type": "code",
   "execution_count": 20,
   "id": "9c6376a0-bbb1-4316-8f46-9ed4efcf585c",
   "metadata": {},
   "outputs": [],
   "source": [
    "def evaluate_des(des_model, dataloader):\n",
    "    total = 0\n",
    "    correct = 0\n",
    "    \n",
    "    with torch.no_grad():\n",
    "        for imgs, labels in tqdm(dataloader, desc=\"Testing VisionDES\"):\n",
    "            imgs, labels = imgs.to(device), labels.to(device)\n",
    "            \n",
    "            # DES prediction (you can switch to robust or explainable prediction)\n",
    "            preds = []\n",
    "            for img in imgs:\n",
    "                pred = des_model.predict_weighted_robust_feature_similarity(\n",
    "                    img, k=7, return_logits=False, explain=False\n",
    "                )\n",
    "                preds.append(pred)\n",
    "            \n",
    "            preds = torch.tensor(preds).to(device)\n",
    "            correct += (preds == labels).sum().item()\n",
    "            total += labels.size(0)\n",
    "    \n",
    "    acc = correct / total\n",
    "    print(f\"✅ Test Accuracy: {acc:.4f}\")\n",
    "    return acc"
   ]
  },
  {
   "cell_type": "code",
   "execution_count": 287,
   "id": "6b949256-c57c-4352-9ac4-14272c31a536",
   "metadata": {},
   "outputs": [],
   "source": [
    "def evaluate_des_fails(des_model, data):\n",
    "    failed_indices = [] \n",
    "    \n",
    "    with torch.no_grad():\n",
    "        for i in tqdm(range(len(data))): \n",
    "            img, label = data[i][0].to(device), data[i][1]\n",
    "            pred = des_model.predict_weighted_robust_feature_similarity(\n",
    "                    img, k=7, return_logits=False, explain=False\n",
    "                ) \n",
    "\n",
    "            if pred != label: \n",
    "                failed_indices.append(i) \n",
    "    return failed_indices"
   ]
  },
  {
   "cell_type": "code",
   "execution_count": 288,
   "id": "4754382f-b87a-4d9a-a118-cf8273fcf057",
   "metadata": {},
   "outputs": [
    {
     "name": "stderr",
     "output_type": "stream",
     "text": [
      "Testing VisionDES:   0%|                                                         | 0/10 [00:11<?, ?it/s]\n"
     ]
    },
    {
     "ename": "KeyboardInterrupt",
     "evalue": "",
     "output_type": "error",
     "traceback": [
      "\u001b[0;31m---------------------------------------------------------------------------\u001b[0m",
      "\u001b[0;31mKeyboardInterrupt\u001b[0m                         Traceback (most recent call last)",
      "Cell \u001b[0;32mIn[288], line 5\u001b[0m\n\u001b[1;32m      1\u001b[0m \u001b[38;5;66;03m# =========================\u001b[39;00m\n\u001b[1;32m      2\u001b[0m \u001b[38;5;66;03m# Run Test\u001b[39;00m\n\u001b[1;32m      3\u001b[0m \u001b[38;5;66;03m# =========================\u001b[39;00m\n\u001b[1;32m      4\u001b[0m \u001b[38;5;66;03m# Assume `vision_des` is already created & trained\u001b[39;00m\n\u001b[0;32m----> 5\u001b[0m test_acc \u001b[38;5;241m=\u001b[39m \u001b[43mevaluate_des\u001b[49m\u001b[43m(\u001b[49m\u001b[43mdes_model\u001b[49m\u001b[43m,\u001b[49m\u001b[43m \u001b[49m\u001b[43mtestloader\u001b[49m\u001b[43m)\u001b[49m\n",
      "Cell \u001b[0;32mIn[286], line 12\u001b[0m, in \u001b[0;36mevaluate_des\u001b[0;34m(des_model, dataloader)\u001b[0m\n\u001b[1;32m     10\u001b[0m preds \u001b[38;5;241m=\u001b[39m []\n\u001b[1;32m     11\u001b[0m \u001b[38;5;28;01mfor\u001b[39;00m img \u001b[38;5;129;01min\u001b[39;00m imgs:\n\u001b[0;32m---> 12\u001b[0m     pred \u001b[38;5;241m=\u001b[39m \u001b[43mdes_model\u001b[49m\u001b[38;5;241;43m.\u001b[39;49m\u001b[43mpredict_weighted_robust_feature_similarity\u001b[49m\u001b[43m(\u001b[49m\n\u001b[1;32m     13\u001b[0m \u001b[43m        \u001b[49m\u001b[43mimg\u001b[49m\u001b[43m,\u001b[49m\u001b[43m \u001b[49m\u001b[43mk\u001b[49m\u001b[38;5;241;43m=\u001b[39;49m\u001b[38;5;241;43m7\u001b[39;49m\u001b[43m,\u001b[49m\u001b[43m \u001b[49m\u001b[43mreturn_logits\u001b[49m\u001b[38;5;241;43m=\u001b[39;49m\u001b[38;5;28;43;01mFalse\u001b[39;49;00m\u001b[43m,\u001b[49m\u001b[43m \u001b[49m\u001b[43mexplain\u001b[49m\u001b[38;5;241;43m=\u001b[39;49m\u001b[38;5;28;43;01mFalse\u001b[39;49;00m\n\u001b[1;32m     14\u001b[0m \u001b[43m    \u001b[49m\u001b[43m)\u001b[49m\n\u001b[1;32m     15\u001b[0m     preds\u001b[38;5;241m.\u001b[39mappend(pred)\n\u001b[1;32m     17\u001b[0m preds \u001b[38;5;241m=\u001b[39m torch\u001b[38;5;241m.\u001b[39mtensor(preds)\u001b[38;5;241m.\u001b[39mto(device)\n",
      "Cell \u001b[0;32mIn[283], line 108\u001b[0m, in \u001b[0;36mVisionDES.predict_weighted_robust_feature_similarity\u001b[0;34m(self, test_img, k, return_logits, explain)\u001b[0m\n\u001b[1;32m    106\u001b[0m \u001b[38;5;66;03m# Feature similarity using CLIP embeddings instead of ResNet\u001b[39;00m\n\u001b[1;32m    107\u001b[0m test_feat \u001b[38;5;241m=\u001b[39m \u001b[38;5;28mself\u001b[39m\u001b[38;5;241m.\u001b[39mclip_embedder(test_img)\n\u001b[0;32m--> 108\u001b[0m roc_feats \u001b[38;5;241m=\u001b[39m \u001b[38;5;28;43mself\u001b[39;49m\u001b[38;5;241;43m.\u001b[39;49m\u001b[43mclip_embedder\u001b[49m\u001b[43m(\u001b[49m\u001b[43mroc_imgs\u001b[49m\u001b[43m)\u001b[49m\n\u001b[1;32m    109\u001b[0m mean_feat \u001b[38;5;241m=\u001b[39m roc_feats\u001b[38;5;241m.\u001b[39mmean(dim\u001b[38;5;241m=\u001b[39m\u001b[38;5;241m0\u001b[39m, keepdim\u001b[38;5;241m=\u001b[39m\u001b[38;5;28;01mTrue\u001b[39;00m)\n\u001b[1;32m    111\u001b[0m sim \u001b[38;5;241m=\u001b[39m cosine_similarity(test_feat \u001b[38;5;241m/\u001b[39m test_feat\u001b[38;5;241m.\u001b[39mnorm(), mean_feat \u001b[38;5;241m/\u001b[39m mean_feat\u001b[38;5;241m.\u001b[39mnorm(), dim\u001b[38;5;241m=\u001b[39m\u001b[38;5;241m1\u001b[39m)\n",
      "Cell \u001b[0;32mIn[283], line 37\u001b[0m, in \u001b[0;36mVisionDES.clip_embedder\u001b[0;34m(self, images)\u001b[0m\n\u001b[1;32m     35\u001b[0m         images \u001b[38;5;241m=\u001b[39m images\u001b[38;5;241m.\u001b[39munsqueeze(\u001b[38;5;241m0\u001b[39m)\n\u001b[1;32m     36\u001b[0m     images \u001b[38;5;241m=\u001b[39m torch\u001b[38;5;241m.\u001b[39mstack([\u001b[38;5;28mself\u001b[39m\u001b[38;5;241m.\u001b[39mclip_preprocess(TF\u001b[38;5;241m.\u001b[39mto_pil_image(img\u001b[38;5;241m.\u001b[39mcpu())) \u001b[38;5;28;01mfor\u001b[39;00m img \u001b[38;5;129;01min\u001b[39;00m images])\n\u001b[0;32m---> 37\u001b[0m images \u001b[38;5;241m=\u001b[39m \u001b[43mimages\u001b[49m\u001b[38;5;241;43m.\u001b[39;49m\u001b[43mto\u001b[49m\u001b[43m(\u001b[49m\u001b[43mdevice\u001b[49m\u001b[43m)\u001b[49m\n\u001b[1;32m     38\u001b[0m feats \u001b[38;5;241m=\u001b[39m \u001b[38;5;28mself\u001b[39m\u001b[38;5;241m.\u001b[39mclip_model\u001b[38;5;241m.\u001b[39mencode_image(images)\n\u001b[1;32m     39\u001b[0m feats \u001b[38;5;241m=\u001b[39m feats \u001b[38;5;241m/\u001b[39m feats\u001b[38;5;241m.\u001b[39mnorm(dim\u001b[38;5;241m=\u001b[39m\u001b[38;5;241m-\u001b[39m\u001b[38;5;241m1\u001b[39m, keepdim\u001b[38;5;241m=\u001b[39m\u001b[38;5;28;01mTrue\u001b[39;00m)  \u001b[38;5;66;03m# normalize\u001b[39;00m\n",
      "\u001b[0;31mKeyboardInterrupt\u001b[0m: "
     ]
    }
   ],
   "source": [
    "# =========================\n",
    "# Run Test\n",
    "# =========================\n",
    "# Assume `vision_des` is already created & trained\n",
    "test_acc = evaluate_des(des_model, testloader)"
   ]
  },
  {
   "cell_type": "code",
   "execution_count": 254,
   "id": "119281cd-4172-4ff0-bdca-df2974141e3a",
   "metadata": {},
   "outputs": [
    {
     "name": "stderr",
     "output_type": "stream",
     "text": [
      "100%|███████████████████████████████████████████████████████████████| 1000/1000 [02:58<00:00,  5.62it/s]\n"
     ]
    }
   ],
   "source": [
    "failed_samples = evaluate_des_fails(des_model, test_set)"
   ]
  },
  {
   "cell_type": "code",
   "execution_count": 255,
   "id": "c3a58d6c-4548-44e5-8107-e2e7985f24cd",
   "metadata": {},
   "outputs": [
    {
     "name": "stdout",
     "output_type": "stream",
     "text": [
      "[4, 7, 8, 10, 12, 24, 25, 28, 31, 32, 37, 39, 40, 41, 43, 44, 47, 52, 55, 69, 76, 78, 79, 92, 98, 106, 111, 113, 125, 128, 132, 137, 141, 147, 148, 149, 173, 177, 186, 195, 202, 205, 209, 211, 212, 216, 217, 224, 225, 227, 228, 233, 240, 241, 246, 252, 253, 256, 262, 268, 272, 276, 290, 294, 297, 302, 310, 311, 313, 326, 331, 334, 343, 346, 348, 349, 355, 359, 364, 368, 373, 375, 384, 389, 399, 404, 406, 409, 415, 421, 425, 426, 431, 433, 437, 442, 446, 450, 451, 457, 469, 473, 475, 480, 500, 503, 513, 516, 524, 529, 534, 544, 546, 551, 558, 562, 567, 572, 580, 588, 593, 594, 607, 619, 621, 622, 624, 636, 642, 643, 645, 659, 667, 673, 675, 676, 679, 681, 691, 695, 701, 704, 712, 717, 729, 734, 739, 741, 749, 750, 753, 757, 762, 769, 770, 777, 780, 786, 788, 789, 790, 792, 793, 794, 797, 798, 800, 802, 803, 813, 816, 832, 840, 846, 848, 854, 859, 860, 866, 868, 870, 882, 883, 886, 889, 890, 897, 905, 913, 914, 917, 919, 922, 924, 925, 929, 938, 942, 947, 949, 952, 955, 959, 960, 962, 971, 977, 980, 991]\n"
     ]
    }
   ],
   "source": [
    "print(failed_samples) "
   ]
  },
  {
   "cell_type": "code",
   "execution_count": 256,
   "id": "dbae4894-f5e3-4e2e-8030-6bf3d77d9073",
   "metadata": {},
   "outputs": [
    {
     "data": {
      "text/plain": [
       "209"
      ]
     },
     "execution_count": 256,
     "metadata": {},
     "output_type": "execute_result"
    }
   ],
   "source": [
    "len(failed_samples)"
   ]
  },
  {
   "cell_type": "code",
   "execution_count": 64,
   "id": "a68958b7-31ac-4006-8a2f-4095a69b10a4",
   "metadata": {},
   "outputs": [
    {
     "name": "stdout",
     "output_type": "stream",
     "text": [
      "True class: 31\n",
      "\n",
      "Explainability Report:\n",
      "Model #0: VGG\n",
      "  - Competence: 0.8571\n",
      "  - Feature similarity: 0.7815\n",
      "  - Combined weight: 0.1863\n",
      "  - Predicted class: 31 with confidence 0.5673\n",
      "  - Top-5: [31, 19, 29, 52, 38] → [0.567, 0.27, 0.038, 0.038, 0.032]\n",
      "--------------------------------------------------\n",
      "Model #1: ResNet\n",
      "  - Competence: 1.0000\n",
      "  - Feature similarity: 0.9354\n",
      "  - Combined weight: 0.2601\n",
      "  - Predicted class: 3 with confidence 0.4959\n",
      "  - Top-5: [3, 31, 19, 52, 21] → [0.496, 0.384, 0.028, 0.012, 0.012]\n",
      "--------------------------------------------------\n",
      "Model #2: DenseNet\n",
      "  - Competence: 0.7143\n",
      "  - Feature similarity: 0.8660\n",
      "  - Combined weight: 0.1720\n",
      "  - Predicted class: 3 with confidence 0.9684\n",
      "  - Top-5: [3, 31, 52, 21, 75] → [0.968, 0.019, 0.003, 0.001, 0.001]\n",
      "--------------------------------------------------\n",
      "Model #3: GoogleNet\n",
      "  - Competence: 0.7143\n",
      "  - Feature similarity: 0.8581\n",
      "  - Combined weight: 0.1704\n",
      "  - Predicted class: 31 with confidence 0.6910\n",
      "  - Top-5: [31, 19, 3, 52, 15] → [0.691, 0.116, 0.062, 0.02, 0.017]\n",
      "--------------------------------------------------\n",
      "Model #4: InceptionV3\n",
      "  - Competence: 0.8571\n",
      "  - Feature similarity: 0.8857\n",
      "  - Combined weight: 0.2111\n",
      "  - Predicted class: 3 with confidence 0.8621\n",
      "  - Top-5: [3, 31, 52, 21, 64] → [0.862, 0.058, 0.022, 0.005, 0.005]\n",
      "--------------------------------------------------\n",
      "\n",
      "🧠 Final prediction: 3\n",
      "🔝 Top-5 predictions:\n",
      "  - Class 3: 0.4898\n",
      "  - Class 31: 0.3387\n",
      "  - Class 19: 0.0777\n",
      "  - Class 52: 0.0188\n",
      "  - Class 29: 0.0092\n",
      "\n",
      "Model weight distribution:\n",
      "  Model #0: 0.1863\n",
      "  Model #1: 0.2601\n",
      "  Model #2: 0.1720\n",
      "  Model #3: 0.1704\n",
      "  Model #4: 0.2111\n",
      "Suspected attacked model: Model #0 (VGG)\n",
      "\n",
      "RoC visualization:\n"
     ]
    },
    {
     "data": {
      "image/png": "[encoded data removed]",
      "text/plain": [
       "<Figure size 1500x900 with 8 Axes>"
      ]
     },
     "metadata": {},
     "output_type": "display_data"
    },
    {
     "name": "stdout",
     "output_type": "stream",
     "text": [
      "Image has bear: 0.145751953125\n",
      "Image has elephant: 0.0911865234375\n",
      "Image has cattle: 0.1551513671875\n",
      "Image has oak_tree: 0.40869140625\n",
      "Image has dinosaur: 0.19921875\n"
     ]
    },
    {
     "data": {
      "text/plain": [
       "3"
      ]
     },
     "execution_count": 64,
     "metadata": {},
     "output_type": "execute_result"
    }
   ],
   "source": [
    "index = 55\n",
    "\n",
    "print(f\"True class: {test_set[index][1]}\")\n",
    "\n",
    "des_model.predict_weighted_robust_feature_similarity(test_set[index][0], explain=True) "
   ]
  },
  {
   "cell_type": "code",
   "execution_count": 223,
   "id": "3a54d908-d80f-4b8f-bed4-ffdb2b47527b",
   "metadata": {},
   "outputs": [
    {
     "data": {
      "text/plain": [
       "'keyboard'"
      ]
     },
     "execution_count": 223,
     "metadata": {},
     "output_type": "execute_result"
    }
   ],
   "source": [
    "cifar100_labels[39]"
   ]
  },
  {
   "cell_type": "code",
   "execution_count": 221,
   "id": "b7a4307a-7b98-43e3-a33b-dcf0329dbf18",
   "metadata": {},
   "outputs": [
    {
     "data": {
      "text/plain": [
       "'beaver'"
      ]
     },
     "execution_count": 221,
     "metadata": {},
     "output_type": "execute_result"
    }
   ],
   "source": [
    "cifar100_labels[4]"
   ]
  },
  {
   "cell_type": "code",
   "execution_count": 184,
   "id": "e642b7d3-912b-4340-866c-2b288fae4144",
   "metadata": {},
   "outputs": [
    {
     "data": {
      "text/plain": [
       "'bear'"
      ]
     },
     "execution_count": 184,
     "metadata": {},
     "output_type": "execute_result"
    }
   ],
   "source": [
    "cifar100_labels[3]"
   ]
  },
  {
   "cell_type": "code",
   "execution_count": 239,
   "id": "ce7b97cd-5bcf-4184-94c2-cbbdce510ed5",
   "metadata": {},
   "outputs": [
    {
     "data": {
      "text/plain": [
       "tensor(99, device='cuda:0')"
      ]
     },
     "execution_count": 239,
     "metadata": {},
     "output_type": "execute_result"
    }
   ],
   "source": [
    "pred = resnet50_model(test_set[index][0].unsqueeze(0).to(device))\n",
    "pred.argmax()"
   ]
  },
  {
   "cell_type": "code",
   "execution_count": 262,
   "id": "7347df63-1a81-4121-992c-e3db295e4db9",
   "metadata": {},
   "outputs": [
    {
     "data": {
      "image/png": "[encoded data removed]",
      "text/plain": [
       "<Figure size 1500x600 with 10 Axes>"
      ]
     },
     "metadata": {},
     "output_type": "display_data"
    }
   ],
   "source": [
    "show_images_of_class(val_set, target_class=69, num_images=10, class_names=cifar100_labels)"
   ]
  },
  {
   "cell_type": "code",
   "execution_count": 218,
   "id": "d0210288-9d06-4f17-b1c9-8206ca7bfdb2",
   "metadata": {},
   "outputs": [
    {
     "data": {
      "text/plain": [
       "(array([2.5770362e-06, 4.4624735e-06, 1.9995182e-06, 1.0064914e-05,\n",
       "        1.6284608e-06, 1.2205877e-05, 7.8845851e-06, 8.4370220e-07,\n",
       "        3.8330991e-06, 2.8034472e-05, 1.1963665e-06, 4.3324426e-06,\n",
       "        1.6183814e-05, 6.6330526e-06, 4.5052439e-06, 3.1718241e-06,\n",
       "        3.9721081e-06, 3.5975456e-05, 8.4246976e-06, 5.7379225e-06,\n",
       "        2.4829235e-06, 8.7703648e-07, 2.0068728e-06, 1.2885437e-05,\n",
       "        7.2695489e-06, 4.3857071e-06, 1.1870280e-06, 6.1023807e-06,\n",
       "        6.6792550e-06, 5.0073245e-06, 7.6435135e-06, 2.1691717e-06,\n",
       "        6.8813047e-06, 1.4289651e-06, 9.5023734e-06, 8.6302452e-06,\n",
       "        5.9639751e-06, 5.3825511e-06, 1.4864263e-05, 5.5207001e-06,\n",
       "        1.6445523e-05, 1.4577539e-05, 2.0413111e-06, 1.2414303e-06,\n",
       "        1.4998668e-05, 9.8404344e-06, 4.4142803e-06, 1.6625603e-06,\n",
       "        4.6941154e-06, 7.9882284e-06, 5.6379486e-06, 4.1061940e-06,\n",
       "        3.5714147e-06, 2.6143155e-06, 8.2253227e-06, 3.5838348e-06,\n",
       "        2.0103424e-05, 5.2751438e-06, 1.5518164e-05, 6.0631837e-06,\n",
       "        2.3505139e-05, 1.5831762e-06, 1.4653937e-06, 1.8358994e-06,\n",
       "        1.5785172e-06, 2.5327552e-06, 1.8253183e-06, 4.3468417e-06,\n",
       "        5.7095467e-06, 9.9925441e-01, 2.5368063e-06, 2.5384445e-05,\n",
       "        5.7408370e-06, 1.2370883e-05, 3.5611724e-06, 1.1609844e-05,\n",
       "        4.9648144e-05, 3.3594511e-06, 1.6133379e-06, 1.0466569e-05,\n",
       "        3.9450315e-06, 3.0481697e-06, 4.2653837e-06, 2.0204066e-06,\n",
       "        1.7374307e-06, 1.3710443e-05, 4.1291505e-06, 4.6006276e-06,\n",
       "        1.6994575e-06, 3.8548801e-06, 6.9665248e-06, 8.4610201e-06,\n",
       "        7.5016605e-06, 3.1263003e-06, 4.2598149e-06, 3.7865037e-05,\n",
       "        2.8764875e-06, 4.5832553e-06, 5.0278904e-06, 1.8136778e-05],\n",
       "       dtype=float32),\n",
       " np.int64(69))"
      ]
     },
     "execution_count": 218,
     "metadata": {},
     "output_type": "execute_result"
    }
   ],
   "source": [
    "soft_model.predict_single_with_probs(test_set[index][0])"
   ]
  },
  {
   "cell_type": "markdown",
   "id": "a5afb395-8c33-460b-844d-bdb1a7ccb3df",
   "metadata": {},
   "source": [
    "### Soft Voting "
   ]
  },
  {
   "cell_type": "code",
   "execution_count": 145,
   "id": "00d266c7-37fe-4fea-a13d-0afc1c2588fc",
   "metadata": {},
   "outputs": [],
   "source": [
    "def evaluate_soft(des_model, dataloader):\n",
    "    total = 0\n",
    "    correct = 0\n",
    "    \n",
    "    with torch.no_grad():\n",
    "        for imgs, labels in tqdm(dataloader, desc=\"Testing SoftVoting\"):\n",
    "            imgs, labels = imgs.to(device), labels.to(device)\n",
    "            \n",
    "            # DES prediction (you can switch to robust or explainable prediction)\n",
    "            preds = []\n",
    "            for img in imgs:\n",
    "                _, pred = des_model.predict_single_with_probs(\n",
    "                    img\n",
    "                )\n",
    "                preds.append(pred)\n",
    "            \n",
    "            preds = torch.tensor(preds).to(device)\n",
    "            correct += (preds == labels).sum().item()\n",
    "            total += labels.size(0)\n",
    "    \n",
    "    acc = correct / total\n",
    "    print(f\"✅ Test Accuracy: {acc:.4f}\")\n",
    "    return acc"
   ]
  },
  {
   "cell_type": "code",
   "execution_count": 251,
   "id": "877967a1-0fb8-4a66-8983-d5ef4ef2bf59",
   "metadata": {},
   "outputs": [],
   "source": [
    "class SoftVotingEnsemble:\n",
    "    def __init__(self, models, device='cpu'):\n",
    "        self.models = models\n",
    "        self.device = device\n",
    "        for model in self.models:\n",
    "            model.eval().to(device)\n",
    "\n",
    "    def predict(self, images, return_probs=False):\n",
    "        probs = []\n",
    "        with torch.no_grad():\n",
    "            for model in self.models:\n",
    "                outputs = model(images.to(self.device))\n",
    "                softmaxed = torch.softmax(outputs, dim=1)\n",
    "                probs.append(softmaxed.cpu().numpy())\n",
    "        mean_probs = np.mean(np.stack(probs), axis=0)\n",
    "        if return_probs:\n",
    "            return mean_probs\n",
    "        return np.argmax(mean_probs, axis=1)\n",
    "\n",
    "    def predict_single_with_probs(self, image):\n",
    "        image = image.unsqueeze(0)  # Shape [1, C, H, W]\n",
    "        with torch.no_grad():\n",
    "            model_probs = []\n",
    "            for model in self.models:\n",
    "                logits = model(image.to(self.device))\n",
    "                softmaxed = torch.softmax(logits, dim=1)\n",
    "                model_probs.append(softmaxed.cpu().numpy())\n",
    "            mean_probs = np.mean(np.stack(model_probs), axis=0)\n",
    "            probs = mean_probs[0]\n",
    "            pred = np.argmax(probs)\n",
    "            return probs, pred"
   ]
  },
  {
   "cell_type": "code",
   "execution_count": 252,
   "id": "77487453-1c82-4293-a19e-234dd8e70b4b",
   "metadata": {},
   "outputs": [],
   "source": [
    "soft_model = SoftVotingEnsemble(trained_pool, device)"
   ]
  },
  {
   "cell_type": "code",
   "execution_count": 148,
   "id": "655f2c6c-6e3d-4f96-8415-c9d89a8ba398",
   "metadata": {},
   "outputs": [
    {
     "data": {
      "text/plain": [
       "(array([2.78480642e-04, 4.83597454e-04, 1.19355696e-04, 3.14663397e-04,\n",
       "        1.68497121e-04, 1.94360691e-04, 2.98164028e-04, 5.62427915e-04,\n",
       "        1.29284599e-04, 5.00817478e-05, 6.12329459e-05, 4.70433843e-05,\n",
       "        1.91624073e-04, 5.80078049e-04, 1.66103448e-04, 1.37702958e-03,\n",
       "        3.56111195e-05, 2.61035003e-03, 1.95911300e-04, 3.53510084e-04,\n",
       "        7.30682659e-05, 3.32845375e-04, 2.07805278e-04, 1.09000524e-04,\n",
       "        5.88187031e-05, 1.82077332e-04, 1.04074323e-04, 1.30192377e-04,\n",
       "        5.72792269e-05, 1.53765210e-03, 9.78801254e-05, 5.21290232e-04,\n",
       "        1.43551108e-04, 1.42526045e-03, 5.80670712e-05, 1.36964256e-04,\n",
       "        1.22757061e-04, 4.39382577e-03, 2.64498929e-04, 1.47279992e-04,\n",
       "        1.98868598e-04, 1.13020615e-04, 3.65609158e-04, 2.14717264e-04,\n",
       "        1.07546759e-04, 7.11971297e-05, 6.81941601e-05, 7.88324629e-04,\n",
       "        1.97014451e-04, 5.17652277e-03, 1.68964980e-04, 7.26629878e-05,\n",
       "        9.26024258e-01, 2.27552795e-04, 1.74866364e-04, 2.04802069e-04,\n",
       "        7.40816991e-04, 1.00554586e-04, 3.99520795e-04, 1.52314035e-02,\n",
       "        1.17969071e-03, 1.45593571e-04, 2.20870512e-04, 2.22505972e-04,\n",
       "        1.58435985e-04, 1.05010331e-04, 1.47337414e-04, 5.74310252e-04,\n",
       "        2.88620987e-03, 3.61487095e-04, 1.78681235e-04, 1.51256187e-04,\n",
       "        1.30864515e-04, 8.03193980e-05, 8.77616752e-04, 3.07279726e-04,\n",
       "        2.07766745e-04, 2.84917332e-04, 1.31050037e-04, 6.15250727e-04,\n",
       "        6.28974667e-05, 3.38513666e-04, 4.23345802e-04, 1.61557298e-04,\n",
       "        8.07746692e-05, 3.68276937e-03, 8.95936028e-05, 1.35952156e-04,\n",
       "        9.92326313e-05, 3.17714224e-03, 9.94541682e-03, 4.68147162e-04,\n",
       "        9.41778271e-05, 1.35813002e-03, 5.68596297e-05, 9.10381350e-05,\n",
       "        1.57921726e-03, 8.87534261e-05, 8.59202482e-05, 4.61184900e-05],\n",
       "       dtype=float32),\n",
       " np.int64(52))"
      ]
     },
     "execution_count": 148,
     "metadata": {},
     "output_type": "execute_result"
    }
   ],
   "source": [
    "soft_model.predict_single_with_probs(test_set[0][0])"
   ]
  },
  {
   "cell_type": "code",
   "execution_count": 253,
   "id": "7bd531a9-c8f8-4861-bfb4-89d9a0e2e512",
   "metadata": {},
   "outputs": [
    {
     "name": "stderr",
     "output_type": "stream",
     "text": [
      "Testing SoftVoting: 100%|███████████████████████████████████████████████| 10/10 [00:38<00:00,  3.85s/it]"
     ]
    },
    {
     "name": "stdout",
     "output_type": "stream",
     "text": [
      "✅ Test Accuracy: 0.7890\n"
     ]
    },
    {
     "name": "stderr",
     "output_type": "stream",
     "text": [
      "\n"
     ]
    }
   ],
   "source": [
    "# =========================\n",
    "# Run Test\n",
    "# =========================\n",
    "test_acc = evaluate_soft(soft_model, testloader)"
   ]
  },
  {
   "cell_type": "markdown",
   "id": "f92d96ee-56a6-402b-9ab2-30fe42c65661",
   "metadata": {},
   "source": [
    "### Attack "
   ]
  },
  {
   "cell_type": "code",
   "execution_count": 263,
   "id": "902414c7-8e37-438e-837e-9c4cd626c5be",
   "metadata": {},
   "outputs": [],
   "source": [
    "from torch.utils.data import TensorDataset, DataLoader\n",
    "from art.attacks.evasion import ProjectedGradientDescent\n",
    "from art.estimators.classification import PyTorchClassifier\n",
    "from sklearn.metrics import f1_score, roc_auc_score, accuracy_score\n",
    "from collections import defaultdict"
   ]
  },
  {
   "cell_type": "code",
   "execution_count": 264,
   "id": "e68572af-6c6e-4b06-a79b-1a631ffdd97a",
   "metadata": {},
   "outputs": [
    {
     "name": "stdout",
     "output_type": "stream",
     "text": [
      "Attacked\n"
     ]
    },
    {
     "data": {
      "application/vnd.jupyter.widget-view+json": {
       "model_id": "69d991e9b7d94308b42ad6cd25758b98",
       "version_major": 2,
       "version_minor": 0
      },
      "text/plain": [
       "PGD - Batches:   0%|          | 0/32 [00:00<?, ?it/s]"
      ]
     },
     "metadata": {},
     "output_type": "display_data"
    }
   ],
   "source": [
    "print(\"Attacked\")\n",
    "TARGET_MODEL_INDEX = 2 \n",
    "EPSILON = 0.05\n",
    "\n",
    "target_model = trained_pool[TARGET_MODEL_INDEX]  \n",
    "target_model = target_model.to(device).eval() \n",
    "\n",
    "dummy_optimizer = torch.optim.Adam(target_model.parameters())\n",
    "loss_fn = nn.CrossEntropyLoss() \n",
    "\n",
    "# Wrap it for ART\n",
    "art_classifier = PyTorchClassifier(\n",
    "    model=target_model,\n",
    "    loss=loss_fn,\n",
    "    optimizer=dummy_optimizer,\n",
    "    input_shape=(1, 32, 32),  \n",
    "    nb_classes=100,\n",
    "    clip_values=(0.0, 1.0),\n",
    ")\n",
    "\n",
    "x_test = []\n",
    "y_test = []\n",
    "    \n",
    "for img, label in test_set: \n",
    "    x_test.append(img.numpy())\n",
    "    y_test.append(label)\n",
    "    \n",
    "x_test = np.array(x_test)\n",
    "y_test = np.array(y_test)\n",
    "\n",
    "pgd_attack = ProjectedGradientDescent(estimator=art_classifier, eps=EPSILON, eps_step=0.01, max_iter=100)\n",
    "x_test_adv = pgd_attack.generate(x=x_test) "
   ]
  },
  {
   "cell_type": "code",
   "execution_count": 265,
   "id": "fcfe6d79-bea4-4c94-ae62-604b805e31ec",
   "metadata": {},
   "outputs": [],
   "source": [
    "adv_tensor = torch.tensor(x_test_adv).float()\n",
    "labels_tensor = torch.tensor(y_test).long()\n",
    "adv_dataset = TensorDataset(adv_tensor, labels_tensor)\n",
    "\n",
    "adv_test_loader = DataLoader(adv_dataset, batch_size=1, shuffle=False)"
   ]
  },
  {
   "cell_type": "code",
   "execution_count": 266,
   "id": "27053eee-e432-43d5-85ab-d5c708dbe413",
   "metadata": {},
   "outputs": [
    {
     "name": "stdout",
     "output_type": "stream",
     "text": [
      "VGG19           → Accuracy: 68.40%, Loss: 1.6955\n",
      "ResNet50        → Accuracy: 72.60%, Loss: 1.1488\n",
      "DenseNet169     → Accuracy: 46.40%, Loss: 3.7243\n",
      "GoogleNet       → Accuracy: 69.60%, Loss: 1.2253\n",
      "InceptionV3     → Accuracy: 72.80%, Loss: 1.2081\n"
     ]
    }
   ],
   "source": [
    "evaluate_model_pool(trained_pool, adv_test_loader, device_name, model_names)"
   ]
  },
  {
   "cell_type": "code",
   "execution_count": 267,
   "id": "4211c847-312b-40b2-a150-580903040b2c",
   "metadata": {},
   "outputs": [
    {
     "name": "stderr",
     "output_type": "stream",
     "text": [
      "Testing SoftVoting: 100%|███████████████████████████████████████████| 1000/1000 [00:52<00:00, 19.15it/s]"
     ]
    },
    {
     "name": "stdout",
     "output_type": "stream",
     "text": [
      "✅ Test Accuracy: 0.7460\n"
     ]
    },
    {
     "name": "stderr",
     "output_type": "stream",
     "text": [
      "\n"
     ]
    }
   ],
   "source": [
    "# =========================\n",
    "# Run Test\n",
    "# =========================\n",
    "test_acc = evaluate_soft(soft_model, adv_test_loader)"
   ]
  },
  {
   "cell_type": "code",
   "execution_count": 268,
   "id": "4163c5fd-eccd-4d62-a90c-150b433c659c",
   "metadata": {},
   "outputs": [
    {
     "name": "stderr",
     "output_type": "stream",
     "text": [
      "Testing VisionDES: 100%|████████████████████████████████████████████| 1000/1000 [03:27<00:00,  4.82it/s]"
     ]
    },
    {
     "name": "stdout",
     "output_type": "stream",
     "text": [
      "✅ Test Accuracy: 0.7440\n"
     ]
    },
    {
     "name": "stderr",
     "output_type": "stream",
     "text": [
      "\n"
     ]
    }
   ],
   "source": [
    "# =========================\n",
    "# Run Test\n",
    "# =========================\n",
    "# Assume `vision_des` is already created & trained\n",
    "test_acc = evaluate_des(des_model, adv_test_loader)"
   ]
  },
  {
   "cell_type": "markdown",
   "id": "e9d36e14-2d3c-4ed8-ad99-004ea5f18252",
   "metadata": {},
   "source": [
    "#### Double Attack "
   ]
  },
  {
   "cell_type": "code",
   "execution_count": 269,
   "id": "e21542c5-429d-41e4-a4ff-cb11b6f467d0",
   "metadata": {},
   "outputs": [
    {
     "name": "stdout",
     "output_type": "stream",
     "text": [
      "Attacked\n"
     ]
    },
    {
     "data": {
      "application/vnd.jupyter.widget-view+json": {
       "model_id": "e404ace0ad774a9aa2f09bd32e98d54f",
       "version_major": 2,
       "version_minor": 0
      },
      "text/plain": [
       "PGD - Batches:   0%|          | 0/32 [00:00<?, ?it/s]"
      ]
     },
     "metadata": {},
     "output_type": "display_data"
    }
   ],
   "source": [
    "print(\"Attacked\")\n",
    "TARGET_MODEL_INDEX = 3 \n",
    "EPSILON = 0.05\n",
    "\n",
    "target_model = trained_pool[TARGET_MODEL_INDEX]  \n",
    "target_model = target_model.to(device).eval() \n",
    "\n",
    "dummy_optimizer = torch.optim.Adam(target_model.parameters())\n",
    "loss_fn = nn.CrossEntropyLoss() \n",
    "\n",
    "# Wrap it for ART\n",
    "art_classifier = PyTorchClassifier(\n",
    "    model=target_model,\n",
    "    loss=loss_fn,\n",
    "    optimizer=dummy_optimizer,\n",
    "    input_shape=(1, 32, 32),  \n",
    "    nb_classes=100,\n",
    "    clip_values=(0.0, 1.0),\n",
    ")\n",
    "\n",
    "\n",
    "pgd_attack = ProjectedGradientDescent(estimator=art_classifier, eps=EPSILON, eps_step=0.01, max_iter=100)\n",
    "x_test_adv_double = pgd_attack.generate(x=x_test_adv) "
   ]
  },
  {
   "cell_type": "code",
   "execution_count": 270,
   "id": "2e4152a1-39c1-451d-b9fe-c4671bbce738",
   "metadata": {},
   "outputs": [],
   "source": [
    "adv_tensor = torch.tensor(x_test_adv_double).float()\n",
    "labels_tensor = torch.tensor(y_test).long()\n",
    "adv_dataset_double = TensorDataset(adv_tensor, labels_tensor)\n",
    "\n",
    "adv_test_loader_double = DataLoader(adv_dataset_double, batch_size=1, shuffle=False)"
   ]
  },
  {
   "cell_type": "code",
   "execution_count": 271,
   "id": "3cc7caf7-146d-4ffa-89fa-eebe992afcbe",
   "metadata": {},
   "outputs": [
    {
     "name": "stdout",
     "output_type": "stream",
     "text": [
      "VGG19           → Accuracy: 64.90%, Loss: 1.8459\n",
      "ResNet50        → Accuracy: 66.70%, Loss: 1.3036\n",
      "DenseNet169     → Accuracy: 48.30%, Loss: 2.9324\n",
      "GoogleNet       → Accuracy: 38.60%, Loss: 4.4135\n",
      "InceptionV3     → Accuracy: 69.40%, Loss: 1.3995\n"
     ]
    }
   ],
   "source": [
    "evaluate_model_pool(trained_pool, adv_test_loader_double, device_name, model_names)"
   ]
  },
  {
   "cell_type": "code",
   "execution_count": 272,
   "id": "b9a136b8-2706-4f7f-a21e-17e62c5f5733",
   "metadata": {},
   "outputs": [
    {
     "name": "stderr",
     "output_type": "stream",
     "text": [
      "Testing SoftVoting: 100%|███████████████████████████████████████████| 1000/1000 [00:38<00:00, 25.76it/s]"
     ]
    },
    {
     "name": "stdout",
     "output_type": "stream",
     "text": [
      "✅ Test Accuracy: 0.6580\n"
     ]
    },
    {
     "name": "stderr",
     "output_type": "stream",
     "text": [
      "\n"
     ]
    }
   ],
   "source": [
    "# =========================\n",
    "# Run Test\n",
    "# =========================\n",
    "test_acc = evaluate_soft(soft_model, adv_test_loader_double) "
   ]
  },
  {
   "cell_type": "code",
   "execution_count": 273,
   "id": "fdbd01c6-8029-472d-94bf-54a99f2adf77",
   "metadata": {},
   "outputs": [
    {
     "name": "stderr",
     "output_type": "stream",
     "text": [
      "Testing VisionDES: 100%|████████████████████████████████████████████| 1000/1000 [02:58<00:00,  5.60it/s]"
     ]
    },
    {
     "name": "stdout",
     "output_type": "stream",
     "text": [
      "✅ Test Accuracy: 0.6720\n"
     ]
    },
    {
     "name": "stderr",
     "output_type": "stream",
     "text": [
      "\n"
     ]
    }
   ],
   "source": [
    "# =========================\n",
    "# Run Test\n",
    "# =========================\n",
    "# Assume `vision_des` is already created & trained\n",
    "test_acc = evaluate_des(des_model, adv_test_loader_double)"
   ]
  },
  {
   "cell_type": "markdown",
   "id": "44574ed7-95ec-4a6b-b7d0-53f031b21d1c",
   "metadata": {},
   "source": [
    "### Triple Attack "
   ]
  },
  {
   "cell_type": "code",
   "execution_count": 274,
   "id": "f9d5682b-d103-4ae0-875c-19cd77487f3b",
   "metadata": {},
   "outputs": [
    {
     "name": "stdout",
     "output_type": "stream",
     "text": [
      "Attacked\n"
     ]
    },
    {
     "data": {
      "application/vnd.jupyter.widget-view+json": {
       "model_id": "f4889dd47e9143bba6681b2008f65857",
       "version_major": 2,
       "version_minor": 0
      },
      "text/plain": [
       "PGD - Batches:   0%|          | 0/32 [00:00<?, ?it/s]"
      ]
     },
     "metadata": {},
     "output_type": "display_data"
    }
   ],
   "source": [
    "print(\"Attacked\")\n",
    "TARGET_MODEL_INDEX = 0 \n",
    "EPSILON = 0.05\n",
    "\n",
    "target_model = trained_pool[TARGET_MODEL_INDEX]  \n",
    "target_model = target_model.to(device).eval() \n",
    "\n",
    "dummy_optimizer = torch.optim.Adam(target_model.parameters())\n",
    "loss_fn = nn.CrossEntropyLoss() \n",
    "\n",
    "# Wrap it for ART\n",
    "art_classifier = PyTorchClassifier(\n",
    "    model=target_model,\n",
    "    loss=loss_fn,\n",
    "    optimizer=dummy_optimizer,\n",
    "    input_shape=(1, 32, 32),  \n",
    "    nb_classes=10,\n",
    "    clip_values=(0.0, 1.0),\n",
    ")\n",
    "\n",
    "\n",
    "pgd_attack = ProjectedGradientDescent(estimator=art_classifier, eps=EPSILON, eps_step=0.01, max_iter=100)\n",
    "x_test_adv_triple = pgd_attack.generate(x=x_test_adv_double) "
   ]
  },
  {
   "cell_type": "code",
   "execution_count": 275,
   "id": "c975bca2-e5ce-486d-867e-99426509d2e3",
   "metadata": {},
   "outputs": [],
   "source": [
    "adv_tensor = torch.tensor(x_test_adv_triple).float()\n",
    "labels_tensor = torch.tensor(y_test).long()\n",
    "adv_dataset_triple = TensorDataset(adv_tensor, labels_tensor)\n",
    "\n",
    "adv_test_loader_triple = DataLoader(adv_dataset_triple, batch_size=1, shuffle=False)"
   ]
  },
  {
   "cell_type": "code",
   "execution_count": 276,
   "id": "8d870621-fb75-4a0f-b5b2-26e1bac76987",
   "metadata": {},
   "outputs": [
    {
     "name": "stdout",
     "output_type": "stream",
     "text": [
      "VGG19           → Accuracy: 34.40%, Loss: 5.4804\n",
      "ResNet50        → Accuracy: 63.10%, Loss: 1.4867\n",
      "DenseNet169     → Accuracy: 47.30%, Loss: 2.8496\n",
      "GoogleNet       → Accuracy: 42.30%, Loss: 3.2251\n",
      "InceptionV3     → Accuracy: 64.20%, Loss: 1.5892\n"
     ]
    }
   ],
   "source": [
    "evaluate_model_pool(trained_pool, adv_test_loader_triple, device_name, model_names)"
   ]
  },
  {
   "cell_type": "code",
   "execution_count": 277,
   "id": "a5a55c07-2014-467f-a110-5f062b48fa88",
   "metadata": {},
   "outputs": [
    {
     "name": "stderr",
     "output_type": "stream",
     "text": [
      "Testing SoftVoting: 100%|███████████████████████████████████████████| 1000/1000 [00:39<00:00, 25.41it/s]"
     ]
    },
    {
     "name": "stdout",
     "output_type": "stream",
     "text": [
      "✅ Test Accuracy: 0.5660\n"
     ]
    },
    {
     "name": "stderr",
     "output_type": "stream",
     "text": [
      "\n"
     ]
    }
   ],
   "source": [
    "# =========================\n",
    "# Run Test\n",
    "# =========================\n",
    "test_acc = evaluate_soft(soft_model, adv_test_loader_triple) "
   ]
  },
  {
   "cell_type": "code",
   "execution_count": 278,
   "id": "32683cf0-d082-48b7-ba35-b65d470f553c",
   "metadata": {},
   "outputs": [
    {
     "name": "stderr",
     "output_type": "stream",
     "text": [
      "Testing VisionDES: 100%|████████████████████████████████████████████| 1000/1000 [02:56<00:00,  5.66it/s]"
     ]
    },
    {
     "name": "stdout",
     "output_type": "stream",
     "text": [
      "✅ Test Accuracy: 0.5820\n"
     ]
    },
    {
     "name": "stderr",
     "output_type": "stream",
     "text": [
      "\n"
     ]
    }
   ],
   "source": [
    "# =========================\n",
    "# Run Test\n",
    "# =========================\n",
    "# Assume `vision_des` is already created & trained\n",
    "test_acc = evaluate_des(des_model, adv_test_loader_triple)"
   ]
  },
  {
   "cell_type": "markdown",
   "id": "93ca44a0-ccba-411a-bc7e-641286eeea10",
   "metadata": {},
   "source": [
    "### Test attacks "
   ]
  },
  {
   "cell_type": "code",
   "execution_count": 282,
   "id": "68a47bd8-1218-47b9-acac-38f8fae0c8b6",
   "metadata": {},
   "outputs": [
    {
     "name": "stdout",
     "output_type": "stream",
     "text": [
      "True class: 47\n",
      "\n",
      "Explainability Report:\n",
      "Model #0: VGG\n",
      "  - Competence: 0.4286\n",
      "  - Feature similarity: 0.7264\n",
      "  - Combined weight: 0.1686\n",
      "  - Predicted class: 14 with confidence 0.9989\n",
      "  - Top-5: [14, 18, 6, 62, 82] → [0.999, 0.0, 0.0, 0.0, 0.0]\n",
      "--------------------------------------------------\n",
      "Model #1: ResNet\n",
      "  - Competence: 0.5714\n",
      "  - Feature similarity: 0.9101\n",
      "  - Combined weight: 0.2816\n",
      "  - Predicted class: 93 with confidence 0.2884\n",
      "  - Top-5: [93, 14, 63, 59, 82] → [0.288, 0.183, 0.059, 0.049, 0.032]\n",
      "--------------------------------------------------\n",
      "Model #2: DenseNet\n",
      "  - Competence: 0.4286\n",
      "  - Feature similarity: 0.7685\n",
      "  - Combined weight: 0.1783\n",
      "  - Predicted class: 14 with confidence 0.9487\n",
      "  - Top-5: [14, 93, 26, 7, 32] → [0.949, 0.014, 0.003, 0.002, 0.002]\n",
      "--------------------------------------------------\n",
      "Model #3: GoogleNet\n",
      "  - Competence: 0.4286\n",
      "  - Feature similarity: 0.7862\n",
      "  - Combined weight: 0.1824\n",
      "  - Predicted class: 18 with confidence 0.6327\n",
      "  - Top-5: [18, 14, 78, 44, 59] → [0.633, 0.105, 0.034, 0.03, 0.027]\n",
      "--------------------------------------------------\n",
      "Model #4: InceptionV3\n",
      "  - Competence: 0.4286\n",
      "  - Feature similarity: 0.8147\n",
      "  - Combined weight: 0.1891\n",
      "  - Predicted class: 59 with confidence 0.2215\n",
      "  - Top-5: [59, 93, 47, 63, 96] → [0.222, 0.2, 0.042, 0.034, 0.032]\n",
      "--------------------------------------------------\n",
      "\n",
      "🧠 Final prediction: 14\n",
      "🔝 Top-5 predictions:\n",
      "  - Class 14: 0.4118\n",
      "  - Class 93: 0.1236\n",
      "  - Class 18: 0.1229\n",
      "  - Class 59: 0.0608\n",
      "  - Class 63: 0.0238\n",
      "\n",
      "Model weight distribution:\n",
      "  Model #0: 0.1686\n",
      "  Model #1: 0.2816\n",
      "  Model #2: 0.1783\n",
      "  Model #3: 0.1824\n",
      "  Model #4: 0.1891\n",
      "Suspected attacked model: Model #0 (VGG)\n",
      "\n",
      "RoC visualization:\n"
     ]
    },
    {
     "data": {
      "image/png": "[encoded data removed]",
      "text/plain": [
       "<Figure size 1500x900 with 8 Axes>"
      ]
     },
     "metadata": {},
     "output_type": "display_data"
    },
    {
     "data": {
      "text/plain": [
       "(array([5.33393293e-04, 2.25538132e-03, 2.63820589e-03, 9.67130996e-04,\n",
       "        8.15599575e-04, 9.83606558e-04, 5.42419124e-03, 2.64692493e-03,\n",
       "        9.97025520e-04, 1.62895513e-03, 5.10370824e-03, 3.28043330e-04,\n",
       "        8.66085757e-04, 7.51849439e-04, 4.50864017e-01, 9.47398308e-04,\n",
       "        9.61722340e-04, 9.19903046e-04, 1.32269174e-01, 6.24244742e-04,\n",
       "        1.22880633e-03, 9.92061803e-04, 2.11391225e-03, 9.29949689e-04,\n",
       "        1.07051956e-03, 1.28515356e-03, 3.01226345e-03, 5.05840406e-03,\n",
       "        1.34943111e-03, 1.71964557e-03, 1.22870400e-03, 4.74499364e-04,\n",
       "        6.39909785e-03, 1.37807301e-03, 3.70317692e-04, 1.27170817e-03,\n",
       "        8.53034784e-04, 1.35291775e-03, 1.01480784e-03, 9.53871000e-04,\n",
       "        9.39343474e-04, 1.89524028e-03, 1.12603325e-02, 4.89865080e-04,\n",
       "        9.35509428e-03, 1.56435405e-03, 1.39112119e-03, 1.34492395e-02,\n",
       "        1.48961751e-03, 1.85440877e-03, 1.67861953e-03, 2.94018490e-03,\n",
       "        7.55280722e-03, 1.23589172e-03, 2.30385130e-03, 1.17779674e-03,\n",
       "        3.44439410e-03, 3.39986710e-03, 5.31737111e-04, 5.97154498e-02,\n",
       "        3.53288808e-04, 2.99654203e-03, 4.09811083e-03, 1.94187816e-02,\n",
       "        1.36891066e-03, 1.62136671e-03, 1.39037240e-03, 8.57699849e-03,\n",
       "        1.65670144e-03, 9.99234035e-04, 8.03633220e-03, 9.26164153e-04,\n",
       "        7.09143793e-03, 4.13872022e-03, 2.91323964e-03, 2.23141676e-03,\n",
       "        8.39820306e-04, 2.83926399e-03, 1.23672681e-02, 1.80842949e-03,\n",
       "        3.24194832e-03, 6.54751901e-04, 9.46541037e-03, 1.91452261e-03,\n",
       "        5.57469553e-04, 1.22026389e-03, 1.43081730e-03, 1.10728107e-03,\n",
       "        9.16435733e-04, 7.81051232e-04, 1.02540699e-03, 2.04627542e-03,\n",
       "        7.05860031e-04, 1.02804065e-01, 3.71125061e-04, 9.14677046e-04,\n",
       "        7.98652507e-03, 9.28149559e-04, 1.47565152e-03, 5.26952674e-04],\n",
       "       dtype=float32),\n",
       " np.int64(14))"
      ]
     },
     "execution_count": 282,
     "metadata": {},
     "output_type": "execute_result"
    }
   ],
   "source": [
    "index = 125\n",
    "\n",
    "print(f\"True class: {adv_dataset_triple[index][1]}\")\n",
    "\n",
    "des_model.predict_weighted_robust_feature_similarity(adv_dataset_triple[index][0], explain=True) \n",
    "\n",
    "soft_model.predict_single_with_probs(adv_dataset_triple[index][0])  "
   ]
  },
  {
   "cell_type": "code",
   "execution_count": 86,
   "id": "409bb021-b0ef-4f2b-9df1-82820d9cb9f6",
   "metadata": {},
   "outputs": [],
   "source": [
    "import numpy as np\n",
    "import matplotlib.pyplot as plt\n",
    "from skimage.metrics import structural_similarity as ssim\n",
    "\n",
    "imagenet_mean = np.array([0.485, 0.456, 0.406])\n",
    "imagenet_std = np.array([0.229, 0.224, 0.225])\n",
    "\n",
    "def denormalize(img):\n",
    "    img = img.copy()\n",
    "    for i in range(3):\n",
    "        img[i] = img[i] * imagenet_std[i] + imagenet_mean[i]\n",
    "    return np.clip(img, 0, 1)\n",
    "\n",
    "def visualize_adversarial_examples(x_clean, x_adv, labels=None, max_images=5):\n",
    "    num_images = min(len(x_clean), max_images)\n",
    "    noise_rates = []\n",
    "\n",
    "    print(f\"Showing {num_images} sample(s)...\\n\")\n",
    "\n",
    "    for i in range(num_images):\n",
    "        clean = denormalize(x_clean[i]).transpose(1, 2, 0)\n",
    "        adv = denormalize(x_adv[i]).transpose(1, 2, 0)\n",
    "\n",
    "        # SSIM for small images: set win_size explicitly and use channel_axis\n",
    "        score = ssim(clean, adv, data_range=1.0, win_size=7, channel_axis=2)\n",
    "        noise_rate = 1 - score\n",
    "        noise_rates.append(noise_rate)\n",
    "\n",
    "        fig, axs = plt.subplots(1, 2, figsize=(6, 3))\n",
    "        axs[0].imshow(clean)\n",
    "        axs[0].set_title(\"Original\")\n",
    "        axs[0].axis(\"off\")\n",
    "\n",
    "        axs[1].imshow(adv)\n",
    "        axs[1].set_title(f\"Adversarial\\nNoise Rate: {noise_rate:.4f}\")\n",
    "        axs[1].axis(\"off\")\n",
    "\n",
    "        plt.tight_layout()\n",
    "        plt.show()\n",
    "\n",
    "    print(f\"\\nAverage Noise Rate (1 - SSIM): {np.mean(noise_rates):.4f}\")\n"
   ]
  },
  {
   "cell_type": "code",
   "execution_count": 280,
   "id": "3ade0e18-10a6-4689-a61a-310bc9cc4c08",
   "metadata": {},
   "outputs": [
    {
     "name": "stdout",
     "output_type": "stream",
     "text": [
      "Showing 5 sample(s)...\n",
      "\n"
     ]
    },
    {
     "data": {
      "image/png": "[encoded data removed]",
      "text/plain": [
       "<Figure size 600x300 with 2 Axes>"
      ]
     },
     "metadata": {},
     "output_type": "display_data"
    },
    {
     "data": {
      "image/png": "[encoded data removed]",
      "text/plain": [
       "<Figure size 600x300 with 2 Axes>"
      ]
     },
     "metadata": {},
     "output_type": "display_data"
    },
    {
     "data": {
      "image/png": "[encoded data removed]",
      "text/plain": [
       "<Figure size 600x300 with 2 Axes>"
      ]
     },
     "metadata": {},
     "output_type": "display_data"
    },
    {
     "data": {
      "image/png": "[encoded data removed]",
      "text/plain": [
       "<Figure size 600x300 with 2 Axes>"
      ]
     },
     "metadata": {},
     "output_type": "display_data"
    },
    {
     "data": {
      "image/png": "[encoded data removed]",
      "text/plain": [
       "<Figure size 600x300 with 2 Axes>"
      ]
     },
     "metadata": {},
     "output_type": "display_data"
    },
    {
     "name": "stdout",
     "output_type": "stream",
     "text": [
      "\n",
      "Average Noise Rate (1 - SSIM): 0.0565\n"
     ]
    }
   ],
   "source": [
    "visualize_adversarial_examples(x_test[0:255], x_test_adv_triple[0:255], max_images=5)"
   ]
  },
  {
   "cell_type": "code",
   "execution_count": null,
   "id": "c669d389-78cb-4184-b5f6-e9a18d90293e",
   "metadata": {},
   "outputs": [],
   "source": []
  }
 ],
 "metadata": {
  "kernelspec": {
   "display_name": "Python 3 (ipykernel)",
   "language": "python",
   "name": "python3"
  },
  "language_info": {
   "codemirror_mode": {
    "name": "ipython",
    "version": 3
   },
   "file_extension": ".py",
   "mimetype": "text/x-python",
   "name": "python",
   "nbconvert_exporter": "python",
   "pygments_lexer": "ipython3",
   "version": "3.9.23"
  }
 },
 "nbformat": 4,
 "nbformat_minor": 5
}
